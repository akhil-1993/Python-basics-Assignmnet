{
  "nbformat": 4,
  "nbformat_minor": 0,
  "metadata": {
    "colab": {
      "provenance": []
    },
    "kernelspec": {
      "name": "python3",
      "display_name": "Python 3"
    },
    "language_info": {
      "name": "python"
    }
  },
  "cells": [
    {
      "cell_type": "markdown",
      "source": [
        "#D**ata Types and Structures Questions**"
      ],
      "metadata": {
        "id": "xPx49M23wGrw"
      }
    },
    {
      "cell_type": "markdown",
      "source": [
        "##**1. What are data structures, and why are they important?**"
      ],
      "metadata": {
        "id": "bZJ-bVBnwcoh"
      }
    },
    {
      "cell_type": "markdown",
      "source": [
        "=>\n",
        "\n",
        "Data structures are ways to organize and store data in a computer so that it can be accessed and used efficiently. In Python, some common built-in data structures include strings, lists, tuples, sets, and dictionaries.\n",
        "\n",
        "Importance of Data Structures:\n",
        "1.Efficient Data Management - Helps in storing and retrieving data quickly.\n",
        "\n",
        "2.Improves Performance - The right structure makes the program faster and more efficient.\n",
        "\n",
        "3.Organized Data Representation - Makes code easier to read, maintain, and debug.\n",
        "\n",
        "4.Problem Solving - Many real-world and coding problems can be solved using proper data structures.\n",
        "\n",
        "5.Supports Algorithms - Many algorithms are designed to work with specific data structures.\n"
      ],
      "metadata": {
        "id": "Lh1sTcuSw_VJ"
      }
    },
    {
      "cell_type": "markdown",
      "source": [
        "##**2.Explain the difference between mutable and immutable data types with examples**"
      ],
      "metadata": {
        "id": "rlgDw530xuFU"
      }
    },
    {
      "cell_type": "markdown",
      "source": [
        "=>\n",
        "\n",
        "Mutable Data Types:\n",
        "These can be changed or modified after creation.\n",
        "You can add, update, or delete elements.\n",
        "\n",
        "Examples:"
      ],
      "metadata": {
        "id": "l_t875TFx5SI"
      }
    },
    {
      "cell_type": "markdown",
      "source": [
        "1.List\n"
      ],
      "metadata": {
        "id": "sDeW1QYYx6Uo"
      }
    },
    {
      "cell_type": "code",
      "source": [
        "my_list = [1, 2, 3]\n",
        "my_list[0] = 10\n",
        "print(my_list)"
      ],
      "metadata": {
        "colab": {
          "base_uri": "https://localhost:8080/"
        },
        "id": "q2PttvO5wATO",
        "outputId": "363ce76b-4b83-4a25-aa90-c60301ac9196"
      },
      "execution_count": 1,
      "outputs": [
        {
          "output_type": "stream",
          "name": "stdout",
          "text": [
            "[10, 2, 3]\n"
          ]
        }
      ]
    },
    {
      "cell_type": "markdown",
      "source": [
        "2.Set"
      ],
      "metadata": {
        "id": "_DS0EdZAyON1"
      }
    },
    {
      "cell_type": "code",
      "source": [
        "my_set = {1, 2, 3}\n",
        "my_set.add(4)\n",
        "print(my_set)"
      ],
      "metadata": {
        "colab": {
          "base_uri": "https://localhost:8080/"
        },
        "id": "UQaBeuWQyMzN",
        "outputId": "5182269e-9e5b-49b2-cd3b-774d3203bb70"
      },
      "execution_count": 2,
      "outputs": [
        {
          "output_type": "stream",
          "name": "stdout",
          "text": [
            "{1, 2, 3, 4}\n"
          ]
        }
      ]
    },
    {
      "cell_type": "markdown",
      "source": [
        "3.Dictionary"
      ],
      "metadata": {
        "id": "JNx3HnnaydDL"
      }
    },
    {
      "cell_type": "code",
      "source": [
        "my_dict = {\"name\": \"Akhil\", \"age\": 25}\n",
        "my_dict[\"age\"] = 32\n",
        "print(my_dict)"
      ],
      "metadata": {
        "colab": {
          "base_uri": "https://localhost:8080/"
        },
        "id": "PkbBoHgoyXoD",
        "outputId": "7678873d-1cd6-45cf-b9d5-3fd549ef4b6b"
      },
      "execution_count": 4,
      "outputs": [
        {
          "output_type": "stream",
          "name": "stdout",
          "text": [
            "{'name': 'Akhil', 'age': 32}\n"
          ]
        }
      ]
    },
    {
      "cell_type": "markdown",
      "source": [
        "Immutable Data Types:\n",
        "These cannot be changed after creation.\n",
        "Any operation that tries to modify it will create a new object.\n",
        "\n",
        "Examples:"
      ],
      "metadata": {
        "id": "1LolHuiQyvZI"
      }
    },
    {
      "cell_type": "markdown",
      "source": [
        "1.string"
      ],
      "metadata": {
        "id": "K5kWhLhCy9sH"
      }
    },
    {
      "cell_type": "code",
      "source": [
        "my_str = \"Hello\"\n",
        "# my_str[0] = \"h\"   Not allowed\n",
        "my_str = \"hello\"  # Creates a new string\n",
        "print(my_str)  # Output: hello"
      ],
      "metadata": {
        "colab": {
          "base_uri": "https://localhost:8080/"
        },
        "id": "nBMk6TDTypHw",
        "outputId": "b7e7db5f-1818-481a-dc08-ec260f9fadef"
      },
      "execution_count": 5,
      "outputs": [
        {
          "output_type": "stream",
          "name": "stdout",
          "text": [
            "hello\n"
          ]
        }
      ]
    },
    {
      "cell_type": "markdown",
      "source": [
        "2.Tuple"
      ],
      "metadata": {
        "id": "2SFWfxHezolK"
      }
    },
    {
      "cell_type": "code",
      "source": [
        "my_tuple = (1, 2, 3)\n",
        "# my_tuple[0] = 10   Not allowed"
      ],
      "metadata": {
        "id": "uzMe6GsozoAS"
      },
      "execution_count": 7,
      "outputs": []
    },
    {
      "cell_type": "markdown",
      "source": [
        "3.Integer / Float"
      ],
      "metadata": {
        "id": "S7cs3ayD0Bd2"
      }
    },
    {
      "cell_type": "code",
      "source": [
        "x = 5\n",
        "x = x + 1  # Creates a new integer object\n",
        "print(x)  # Output: 6"
      ],
      "metadata": {
        "colab": {
          "base_uri": "https://localhost:8080/"
        },
        "id": "1QBiEzh-0A4u",
        "outputId": "c81b7756-a3e6-4e77-d614-6fe90dc36018"
      },
      "execution_count": 9,
      "outputs": [
        {
          "output_type": "stream",
          "name": "stdout",
          "text": [
            "6\n"
          ]
        }
      ]
    },
    {
      "cell_type": "markdown",
      "source": [
        "##**3.What are the main differences between lists and tuples in Python?**"
      ],
      "metadata": {
        "id": "tUzUpJcu0jCZ"
      }
    },
    {
      "cell_type": "markdown",
      "source": [
        "=>\n",
        "\n",
        "Both lists and tuples are used to store collections of items in Python, but they have some key differences:"
      ],
      "metadata": {
        "id": "Qujew66f02ki"
      }
    },
    {
      "cell_type": "markdown",
      "source": [
        "1. Mutability"
      ],
      "metadata": {
        "id": "LzKHzF8d069w"
      }
    },
    {
      "cell_type": "markdown",
      "source": [
        "List: Mutable – You can change, add, or remove elements.\n",
        "\n",
        "Tuple: Immutable – Once created, elements cannot be changed."
      ],
      "metadata": {
        "id": "nSGT_CJk1PTl"
      }
    },
    {
      "cell_type": "code",
      "source": [
        "# List\n",
        "my_list = [1, 2, 3]\n",
        "my_list[0] = 10  #  Allowed\n",
        "\n",
        "# Tuple\n",
        "my_tuple = (1, 2, 3)\n",
        "# my_tuple[0] = 10   Not allowed\n"
      ],
      "metadata": {
        "id": "1tyZCCpt1Oia"
      },
      "execution_count": 12,
      "outputs": []
    },
    {
      "cell_type": "markdown",
      "source": [
        "2. Performance\n",
        "\n",
        "Tuple is faster than List because of its immutability.\n",
        "\n",
        "Use tuples when speed and data safety are priorities."
      ],
      "metadata": {
        "id": "9O0x5zpU1i94"
      }
    },
    {
      "cell_type": "markdown",
      "source": [
        "3. Use Cases\n",
        "\n",
        "List: When you need to change data frequently.\n",
        "\n",
        "Tuple: When the data should remain constant (like coordinates or fixed values).\n",
        "\n"
      ],
      "metadata": {
        "id": "38zA4bVf1pBm"
      }
    },
    {
      "cell_type": "markdown",
      "source": [
        "4. Syntax\n",
        "\n",
        "List: Defined using square brackets []\n",
        "\n",
        "Tuple: Defined using parentheses ()"
      ],
      "metadata": {
        "id": "J87THkRh119K"
      }
    },
    {
      "cell_type": "code",
      "source": [
        "my_list = [1, 2, 3]\n",
        "my_tuple = (1, 2, 3)\n"
      ],
      "metadata": {
        "id": "O9ci-ql21-3T"
      },
      "execution_count": 14,
      "outputs": []
    },
    {
      "cell_type": "markdown",
      "source": [
        "5.Describe how dictionaries store data"
      ],
      "metadata": {
        "id": "4zbO6VBB2NeV"
      }
    },
    {
      "cell_type": "markdown",
      "source": [
        "=>\n",
        "\n",
        "In Python, a dictionary is a built-in data structure that stores data in the form of key-value pairs. Each key is unique and is used to access its corresponding value."
      ],
      "metadata": {
        "id": "RicM-pbP2QZ8"
      }
    },
    {
      "cell_type": "markdown",
      "source": [
        "How it Works:\n",
        "Data is stored like this:"
      ],
      "metadata": {
        "id": "knFEQqwV2l01"
      }
    },
    {
      "cell_type": "code",
      "source": [
        "my_dict = {\"key1\": \"value1\", \"key2\": \"value2\"}\n"
      ],
      "metadata": {
        "id": "tMb3rMsV2sAf"
      },
      "execution_count": 15,
      "outputs": []
    },
    {
      "cell_type": "markdown",
      "source": [
        "Behind the scenes, Python uses a hash table to store keys and values efficiently.\n",
        "\n",
        "When you provide a key, Python uses a hash function to quickly locate the associated value."
      ],
      "metadata": {
        "id": "igCP-39h2x4g"
      }
    },
    {
      "cell_type": "markdown",
      "source": [
        "Properties of Dictionaries:\n",
        "Unordered (until Python 3.6) - Now maintains insertion order.\n",
        "\n",
        "Mutable - You can add, update, or delete key-value pairs.\n",
        "\n",
        "Keys are unique - No duplicate keys allowed.\n",
        "\n",
        "Keys must be immutable - Like strings, numbers, or tuples."
      ],
      "metadata": {
        "id": "thoCtwWR3DZ2"
      }
    },
    {
      "cell_type": "markdown",
      "source": [
        "Example:"
      ],
      "metadata": {
        "id": "ja0UVBa03KPP"
      }
    },
    {
      "cell_type": "code",
      "source": [
        "student = {\n",
        "    \"name\": \"Akhil\",\n",
        "    \"age\": 25,\n",
        "    \"course\": \"Data Analytics\"\n",
        "}\n",
        "\n",
        "# Accessing value\n",
        "print(student[\"name\"])  # Output: Akhil\n",
        "\n",
        "# Updating value\n",
        "student[\"age\"] = 26\n",
        "\n",
        "# Adding new key-value pair\n",
        "student[\"grade\"] = \"A\""
      ],
      "metadata": {
        "colab": {
          "base_uri": "https://localhost:8080/"
        },
        "id": "Lt_hY2iE3CEq",
        "outputId": "ea2a1f20-5e08-496b-f177-806898126454"
      },
      "execution_count": 17,
      "outputs": [
        {
          "output_type": "stream",
          "name": "stdout",
          "text": [
            "Akhil\n"
          ]
        }
      ]
    },
    {
      "cell_type": "markdown",
      "source": [
        "##**5.Why might you use a set instead of a list in Python?**"
      ],
      "metadata": {
        "id": "J_ux40HW3eAr"
      }
    },
    {
      "cell_type": "markdown",
      "source": [
        "You might use a set instead of a list in Python when:\n",
        "\n",
        " 1. You Need Unique Items\n",
        "A set automatically removes duplicates."
      ],
      "metadata": {
        "id": "2Fl02Esb3qL5"
      }
    },
    {
      "cell_type": "code",
      "source": [
        "my_list = [1, 2, 2, 3]\n",
        "my_set = set(my_list)\n",
        "print(my_set)"
      ],
      "metadata": {
        "colab": {
          "base_uri": "https://localhost:8080/"
        },
        "id": "6JEP0v1d3Ucr",
        "outputId": "f807ca6d-27d1-4e63-fbde-a48370a922c8"
      },
      "execution_count": 18,
      "outputs": [
        {
          "output_type": "stream",
          "name": "stdout",
          "text": [
            "{1, 2, 3}\n"
          ]
        }
      ]
    },
    {
      "cell_type": "markdown",
      "source": [
        "2. You Want Faster Membership Checks\n",
        "Sets are faster than lists for checking if an item exists."
      ],
      "metadata": {
        "id": "fFR7iWTc4BwU"
      }
    },
    {
      "cell_type": "code",
      "source": [
        "names = {\"Akhil\", \"Raj\", \"Neha\"}\n",
        "print(\"Raj\" in names)\n",
        "\n",
        "\n"
      ],
      "metadata": {
        "colab": {
          "base_uri": "https://localhost:8080/"
        },
        "id": "F4q8shk837ey",
        "outputId": "2abfafab-8b9f-4b98-cd4d-c7be21f647d4"
      },
      "execution_count": 19,
      "outputs": [
        {
          "output_type": "stream",
          "name": "stdout",
          "text": [
            "True\n"
          ]
        }
      ]
    },
    {
      "cell_type": "markdown",
      "source": [
        "3. You Don’t Care About Order\n",
        "Sets are unordered, so use them when the order of elements is not important."
      ],
      "metadata": {
        "id": "73pnXqw04RYu"
      }
    },
    {
      "cell_type": "markdown",
      "source": [
        "##**6. What is a string in Python, and how is it different from a list?**"
      ],
      "metadata": {
        "id": "GY_yws7o4STg"
      }
    },
    {
      "cell_type": "markdown",
      "source": [
        "=>"
      ],
      "metadata": {
        "id": "XxouTTTH4g8C"
      }
    },
    {
      "cell_type": "markdown",
      "source": [
        "A string in Python is a sequence of characters enclosed in single ('), double (\"), or triple quotes (''' or \"\"\")."
      ],
      "metadata": {
        "id": "uvd1HyjZ40AE"
      }
    },
    {
      "cell_type": "markdown",
      "source": [
        "What is a String?"
      ],
      "metadata": {
        "id": "a6MWOU714-Od"
      }
    },
    {
      "cell_type": "code",
      "source": [
        "my_string = \"Hello, Akhil\"\n",
        "print(my_string)"
      ],
      "metadata": {
        "colab": {
          "base_uri": "https://localhost:8080/"
        },
        "id": "vLJZZOK85Hpe",
        "outputId": "f18e0bb1-5037-46c9-d7cc-184901cc3013"
      },
      "execution_count": 20,
      "outputs": [
        {
          "output_type": "stream",
          "name": "stdout",
          "text": [
            "Hello, Akhil\n"
          ]
        }
      ]
    },
    {
      "cell_type": "markdown",
      "source": [
        "It's used to store text data.\n",
        "\n",
        "Strings are immutable - you can't change characters after creation."
      ],
      "metadata": {
        "id": "qhcLixmW5AGk"
      }
    },
    {
      "cell_type": "markdown",
      "source": [
        "How is it Different from a List"
      ],
      "metadata": {
        "id": "22LCeknm4-I2"
      }
    },
    {
      "cell_type": "markdown",
      "source": [
        "In Python, both strings and lists are sequences, but they are used for different purposes and have different properties.\n",
        "\n",
        "A string is a sequence of characters enclosed in single, double, or triple quotes. Strings are used to represent text and are immutable, which means once a string is created, it cannot be changed. For example, if you create a string like \"hello\", you cannot change just the first character to \"H\"; instead, you would need to create a new string.\n",
        "\n",
        "A list, on the other hand, is a sequence of elements that can be of any data type, such as numbers, strings, or even other lists. Lists are mutable, which means you can change, add, or remove elements after the list is created. For instance, if you have a list like ['h', 'e', 'l', 'l', 'o'], you can easily replace the first element with 'H'.\n",
        "\n",
        "In summary, strings are used when working with fixed text data, while lists are more flexible and used when you need to store and manipulate a collection of items."
      ],
      "metadata": {
        "id": "Goqc1n9w5ufx"
      }
    },
    {
      "cell_type": "code",
      "source": [
        "# String\n",
        "text = \"data\"\n",
        "# text[0] = \"D\"  ❌ Not allowed (immutable)\n",
        "\n",
        "# List\n",
        "letters = ['d', 'a', 't', 'a']\n",
        "letters[0] = 'D'  # ✅ Allowed\n",
        "print(letters)  # Output: ['D', 'a', 't', 'a']\n"
      ],
      "metadata": {
        "colab": {
          "base_uri": "https://localhost:8080/"
        },
        "id": "qeSeB4UC4KZH",
        "outputId": "f1715893-dea0-4369-eed6-26089de1ac2e"
      },
      "execution_count": 21,
      "outputs": [
        {
          "output_type": "stream",
          "name": "stdout",
          "text": [
            "['D', 'a', 't', 'a']\n"
          ]
        }
      ]
    },
    {
      "cell_type": "markdown",
      "source": [
        "##**7.How do tuples ensure data integrity in Python?**"
      ],
      "metadata": {
        "id": "xTNr_v_y6HDF"
      }
    },
    {
      "cell_type": "markdown",
      "source": [
        "=>\n",
        "\n",
        "In Python, tuples help ensure data integrity through their immutability. Once a tuple is created, its elements cannot be changed, added, or removed. This makes tuples ideal for situations where you want to ensure that the data remains unchanged throughout the program, preventing accidental or unintended modifications.\n",
        "\n",
        "How Tuples Ensure Data Integrity:\n",
        "Immutability:\n",
        "\n",
        "Since tuples are immutable, the data stored in a tuple cannot be modified. This guarantees that the data remains consistent and protected from changes.\n",
        "\n",
        "For example, if you store a configuration value or a fixed set of parameters in a tuple, you can be sure that the tuple will not be altered accidentally during the execution of the program."
      ],
      "metadata": {
        "id": "DLUFIZX86V5f"
      }
    },
    {
      "cell_type": "code",
      "source": [
        "my_tuple = (1, 2, 3)\n",
        "# my_tuple[0] = 10  Not allowed (will raise an error)\n"
      ],
      "metadata": {
        "id": "Lfv1So9g6Ur7"
      },
      "execution_count": 23,
      "outputs": []
    },
    {
      "cell_type": "markdown",
      "source": [
        "Data Integrity in Multi-threaded Environments:\n",
        "\n",
        "In multi-threaded environments, using tuples helps prevent accidental data changes by different threads. Since tuples cannot be altered, their contents are safe from race conditions, ensuring data integrity in concurrent applications.\n",
        "\n",
        "Use Cases:\n",
        "\n",
        "Tuples are commonly used to store fixed data, such as coordinates, dates, or records that should not be altered, ensuring the integrity of that data."
      ],
      "metadata": {
        "id": "ZM8v9x3h6rHd"
      }
    },
    {
      "cell_type": "code",
      "source": [
        "coordinates = (40.7128, -74.0060)  # Immutable tuple representing a fixed location\n"
      ],
      "metadata": {
        "id": "p7LYVkt06kY-"
      },
      "execution_count": 24,
      "outputs": []
    },
    {
      "cell_type": "markdown",
      "source": [
        "##**8.What is a hash table, and how does it relate to dictionaries in Python?**"
      ],
      "metadata": {
        "id": "ZSF8_pzH65xO"
      }
    },
    {
      "cell_type": "markdown",
      "source": [
        "=>\n",
        "\n",
        "A hash table is a data structure that stores data in an associative way using key-value pairs. The primary idea behind a hash table is to use a hash function to compute an index (or hash code) that determines where the key-value pair should be stored in the table. This allows for efficient lookups, insertions, and deletions by associating each key with a unique index in the hash table.\n",
        "\n",
        "How a Hash Table Works:\n",
        "Hash Function: A hash function takes the key as input and returns an index (or hash code) where the corresponding value is stored.\n",
        "\n",
        "Collisions: If two keys have the same hash value (known as a collision), the hash table handles this by either chaining the entries or using open addressing to resolve the conflict.\n",
        "\n",
        "Efficiency: Hash tables provide constant-time complexity (O(1)) for average lookups, insertions, and deletions, making them very efficient.\n",
        "\n",
        "Relation to Dictionaries in Python:\n",
        "In Python, dictionaries use hash tables internally to store key-value pairs. When you use a dictionary, Python automatically handles the hashing of keys and ensures that data is stored and accessed efficiently using a hash table.\n",
        "\n",
        "For example, when you add a key-value pair to a Python dictionary, Python uses a hash function to compute the hash code of the key and stores the value at the corresponding location. When you access a value using a key, Python quickly looks up the key’s hash code and retrieves the value in constant time.\n",
        "\n",
        "Example of Python Dictionary Using Hash Table:"
      ],
      "metadata": {
        "id": "5793_bZk65eq"
      }
    },
    {
      "cell_type": "code",
      "source": [
        "# Creating a dictionary\n",
        "my_dict = {\"name\": \"Akhil\", \"age\": 25}\n",
        "\n",
        "# Accessing a value\n",
        "print(my_dict[\"name\"])  # Output: Akhil\n",
        "\n",
        "# Python uses a hash table under the hood to quickly find \"name\"\n"
      ],
      "metadata": {
        "colab": {
          "base_uri": "https://localhost:8080/"
        },
        "id": "86KTPp1z64xl",
        "outputId": "41decc50-97ff-4c86-c48f-3f65467bcbdc"
      },
      "execution_count": 26,
      "outputs": [
        {
          "output_type": "stream",
          "name": "stdout",
          "text": [
            "Akhil\n"
          ]
        }
      ]
    },
    {
      "cell_type": "markdown",
      "source": [
        "In the above example, Python uses a hash table to associate the key \"name\" with the value \"Akhil\", allowing for quick retrieval."
      ],
      "metadata": {
        "id": "Z9O4_dh_7gMW"
      }
    },
    {
      "cell_type": "markdown",
      "source": [
        "##**9. Can lists contain different data types in Python?**"
      ],
      "metadata": {
        "id": "9bPHft4j7nm8"
      }
    },
    {
      "cell_type": "markdown",
      "source": [
        "=>\n",
        "\n",
        "Yes, in Python, lists can contain different data types. Unlike arrays in many other programming languages, which typically store elements of the same type, Python lists are heterogeneous, meaning they can store elements of various types, such as integers, strings, floats, booleans, other lists, and even objects.\n",
        "\n",
        "Example of a List with Different Data Types:"
      ],
      "metadata": {
        "id": "Y5zSrtgu7tEC"
      }
    },
    {
      "cell_type": "code",
      "source": [
        "my_list = [1, \"Hello\", 3.14, True, [1, 2, 3]]\n",
        "\n",
        "# Accessing elements\n",
        "print(my_list[0])  # Output: 1 (int)\n",
        "print(my_list[1])  # Output: Hello (string)\n",
        "print(my_list[2])  # Output: 3.14 (float)\n",
        "print(my_list[3])  # Output: True (boolean)\n",
        "print(my_list[4])  # Output: [1, 2, 3] (list)\n"
      ],
      "metadata": {
        "colab": {
          "base_uri": "https://localhost:8080/"
        },
        "id": "McuLrI5B7q7k",
        "outputId": "f19641e0-f2be-40fc-dd80-d25f138b312a"
      },
      "execution_count": 27,
      "outputs": [
        {
          "output_type": "stream",
          "name": "stdout",
          "text": [
            "1\n",
            "Hello\n",
            "3.14\n",
            "True\n",
            "[1, 2, 3]\n"
          ]
        }
      ]
    },
    {
      "cell_type": "markdown",
      "source": [
        "Why Lists Can Have Different Data Types:\n",
        "Python lists are designed to hold a sequence of elements that can be of any type. This provides flexibility when working with diverse data.\n",
        "\n",
        "The ability to mix data types in a list allows for more complex and dynamic data structures (like when combining multiple data points, such as a name, age, and address)."
      ],
      "metadata": {
        "id": "ZbNRdnH78AHL"
      }
    },
    {
      "cell_type": "markdown",
      "source": [
        "10. Explain why strings are immutable in Python?"
      ],
      "metadata": {
        "id": "IF7EbwVJ8FCV"
      }
    },
    {
      "cell_type": "markdown",
      "source": [
        "In Python, strings are immutable, meaning that once a string is created, its value cannot be changed. The immutability of strings is a design choice in Python, and there are several reasons for this:\n",
        "\n",
        "1. Performance and Efficiency:\n",
        "Memory Optimization: Since strings are immutable, Python can optimize memory usage by storing the same string value in a single location if it is used multiple times. This avoids the overhead of creating copies of the same string, which would happen if strings were mutable.\n",
        "\n",
        "Caching and Interning: Python uses a technique called string interning, where identical string values are stored in a shared memory location. This makes string comparison faster because Python can simply compare the memory addresses instead of the actual content of the strings.\n",
        "\n",
        "2. Security and Integrity:\n",
        "Data Integrity: Immutability ensures that the contents of a string remain consistent throughout its lifetime. This prevents accidental modification of the string’s value, which is particularly important in programs where strings are used as keys in hash-based data structures (like dictionaries or sets).\n",
        "\n",
        "Thread Safety: In multi-threaded programs, immutable objects are safe to share between threads because their state cannot be changed by one thread while another is accessing it, ensuring data integrity.\n",
        "\n",
        "3. Simplicity of Implementation:\n",
        "Hashability: Since strings are immutable, they can be used as keys in dictionaries and sets. The hash value of a string is based on its content, and immutability ensures that the hash value will always remain the same, which is crucial for efficient lookups in hash-based data structures.\n",
        "\n",
        "Predictability: Immutability makes strings predictable. Once created, their behavior and value remain constant throughout the program, reducing complexity and making it easier to debug.\n",
        "\n",
        "Example:"
      ],
      "metadata": {
        "id": "6NlzRA228Kon"
      }
    },
    {
      "cell_type": "code",
      "source": [
        "my_string = \"hello\"\n",
        "# Trying to change a character in the string will raise an error\n",
        "# my_string[0] = \"H\"   Not allowed, will raise a TypeError\n",
        "\n",
        "# To \"change\" the string, you create a new one\n",
        "my_string = \"H\" + my_string[1:]\n",
        "print(my_string)  # Output: \"Hello\"\n"
      ],
      "metadata": {
        "colab": {
          "base_uri": "https://localhost:8080/"
        },
        "id": "_C-sMaiF78Yb",
        "outputId": "5eb99aef-c505-422f-be0d-497d1c15b3b8"
      },
      "execution_count": 28,
      "outputs": [
        {
          "output_type": "stream",
          "name": "stdout",
          "text": [
            "Hello\n"
          ]
        }
      ]
    },
    {
      "cell_type": "markdown",
      "source": [
        "##**11.What advantages do dictionaries offer over lists for certain tasks**"
      ],
      "metadata": {
        "id": "6vZwvRWl8iRG"
      }
    },
    {
      "cell_type": "markdown",
      "source": [
        "=>\n",
        "\n",
        "Dictionaries in Python offer several advantages over lists, especially when you need to perform tasks that involve associating data with keys and require fast lookups. Here are the key advantages:\n",
        "\n",
        "1. Fast Lookups (Constant Time Complexity):\n",
        "\n",
        "Dictionaries provide constant time complexity (O(1)) for searching, inserting, and deleting items based on their key. This is much faster than lists, where searching for an element (i.e., finding an item by value) takes linear time (O(n)).\n",
        "\n",
        "Example: If you need to find a specific value or update it by its associated key, dictionaries offer quick access compared to searching through a list."
      ],
      "metadata": {
        "id": "XPDr31BB8l2j"
      }
    },
    {
      "cell_type": "code",
      "source": [
        "my_dict = {\"name\": \"Akhil\", \"age\": 25}\n",
        "print(my_dict[\"name\"])  # Quick access in constant time\n"
      ],
      "metadata": {
        "colab": {
          "base_uri": "https://localhost:8080/"
        },
        "id": "bHQ8pMDK8RLl",
        "outputId": "9b13ff5e-3df9-4dcf-95a8-473ccf354bb6"
      },
      "execution_count": 29,
      "outputs": [
        {
          "output_type": "stream",
          "name": "stdout",
          "text": [
            "Akhil\n"
          ]
        }
      ]
    },
    {
      "cell_type": "markdown",
      "source": [
        "2. Storing Data with Key-Value Pairs:\n",
        "\n",
        "Dictionaries store data in key-value pairs, which makes them ideal for situations where you need to associate specific keys (like names or IDs) with values (like ages or addresses). Lists, on the other hand, are more suitable for ordered collections of items without labels.\n",
        "\n",
        "Example: When dealing with user information, a dictionary is ideal for storing a name with an associated age, while lists would require you to keep track of indexes."
      ],
      "metadata": {
        "id": "x84-AQHo8v13"
      }
    },
    {
      "cell_type": "code",
      "source": [
        "user_info = {\"name\": \"Akhil\", \"age\": 25}\n",
        "# The key \"name\" points to the value \"Akhil\"\n"
      ],
      "metadata": {
        "id": "tI-bMR2T8s3Y"
      },
      "execution_count": 30,
      "outputs": []
    },
    {
      "cell_type": "markdown",
      "source": [
        "3.No Duplicate Keys:\n",
        "\n",
        "In dictionaries, keys must be unique, which prevents any duplication of keys. This ensures that the data structure can represent a clear mapping between a key and its value. Lists can contain duplicate elements, which can sometimes lead to confusion when trying to identify unique items.\n",
        "\n",
        "Example: If you're storing unique user IDs in a dictionary, you can guarantee that each key (user ID) is unique.\n"
      ],
      "metadata": {
        "id": "PQx04wGU85VN"
      }
    },
    {
      "cell_type": "code",
      "source": [
        "my_dict = {\"id1\": \"Akhil\", \"id2\": \"Raj\"}\n",
        "# You cannot have two identical keys in a dictionary\n"
      ],
      "metadata": {
        "id": "vnCZHESD8zy-"
      },
      "execution_count": 31,
      "outputs": []
    },
    {
      "cell_type": "markdown",
      "source": [
        "4.Flexibility with Data Types:\n",
        "\n",
        "Dictionaries allow the use of any immutable type as a key (strings, numbers, tuples, etc.), and the values can be of any data type (like lists, tuples, other dictionaries, etc.). This flexibility makes them more powerful when storing and organizing diverse data."
      ],
      "metadata": {
        "id": "t9GIkDrE8_Mo"
      }
    },
    {
      "cell_type": "code",
      "source": [
        "my_dict = {(\"key1\", \"subkey\"): [1, 2, 3], 42: \"Answer\"}\n"
      ],
      "metadata": {
        "id": "-HOGZdu988Xe"
      },
      "execution_count": 32,
      "outputs": []
    },
    {
      "cell_type": "markdown",
      "source": [
        "5. More Readable and Understandable:\n",
        "\n",
        "Dictionaries offer a clearer structure for managing data, as you can directly refer to elements using descriptive keys (e.g., \"name\" or \"age\"), making the code easier to read and maintain. Lists only use indexes to access elements, which can become harder to interpret as the data grows."
      ],
      "metadata": {
        "id": "49gCgjYL9C3e"
      }
    },
    {
      "cell_type": "code",
      "source": [
        "# Dictionary with descriptive keys\n",
        "employee = {\"name\": \"John\", \"age\": 30, \"department\": \"HR\"}\n",
        "\n",
        "# Compare to a list\n",
        "employee_list = [\"John\", 30, \"HR\"]\n"
      ],
      "metadata": {
        "id": "sCRJ5agc9Ceh"
      },
      "execution_count": 34,
      "outputs": []
    },
    {
      "cell_type": "markdown",
      "source": [
        "##**12.Describe a scenario where using a tuple would be preferable over a list**\n"
      ],
      "metadata": {
        "id": "gMz2peEI9azw"
      }
    },
    {
      "cell_type": "markdown",
      "source": [
        "=>\n",
        "\n",
        "A tuple would be preferable over a list in situations where the data should remain constant and should not be modified after creation. Tuples are immutable, meaning once they are created, their contents cannot be changed, which makes them ideal for storing fixed collections of items.\n",
        "\n",
        "Scenario: Storing Geographic Coordinates (Latitude, Longitude)\n",
        "Let’s consider a scenario where you need to store the geographic coordinates of a location (latitude and longitude). The coordinates should not change throughout the program, so using a tuple would be a better choice than a list.\n",
        "\n",
        "Why Use a Tuple?\n",
        "Immutability: The geographic coordinates (latitude, longitude) should remain constant and should not be modified. By using a tuple, you ensure that the values are not accidentally altered.\n",
        "\n",
        "Performance: Tuples are generally faster and more memory-efficient than lists due to their immutability. If you're storing a large number of coordinates and need optimal performance, tuples are a better choice.\n",
        "\n",
        "Data Integrity: Since tuples cannot be modified, they ensure that the data remains consistent and secure throughout the program, which is crucial in cases like coordinates where accuracy is critical.\n",
        "\n",
        "Example:"
      ],
      "metadata": {
        "id": "lxBfzwTc9jZK"
      }
    },
    {
      "cell_type": "code",
      "source": [
        "# Storing coordinates as a tuple\n",
        "location = (40.7128, -74.0060)  # (latitude, longitude) for New York City\n",
        "\n",
        "# Accessing coordinates\n",
        "latitude = location[0]\n",
        "longitude = location[1]\n"
      ],
      "metadata": {
        "id": "qeB1E_1q9Lgf"
      },
      "execution_count": 35,
      "outputs": []
    },
    {
      "cell_type": "markdown",
      "source": [
        "Use Case:\n",
        "You might use this tuple to calculate distances between different locations, or to display the coordinates on a map. Since tuples are immutable, the coordinates cannot accidentally be changed, ensuring data integrity."
      ],
      "metadata": {
        "id": "utoMyo3-9sJy"
      }
    },
    {
      "cell_type": "markdown",
      "source": [
        "##**13.How do sets handle duplicate values in Python?**\n"
      ],
      "metadata": {
        "id": "qNOZ8r0W98yH"
      }
    },
    {
      "cell_type": "markdown",
      "source": [
        "=>\n",
        "\n",
        "In Python, sets are a type of collection that automatically removes duplicate values. A set is an unordered collection of unique elements, which means that if you try to add a duplicate value to a set, it will ignore it.\n",
        "\n",
        "Key Characteristics of Sets:\n",
        "No Duplicates:\n",
        "\n",
        "A set only contains unique elements. If you try to add a value that already exists in the set, Python will simply ignore it and not add it again.\n",
        "\n",
        "Unordered:\n",
        "\n",
        "The elements in a set are not stored in any particular order, and you cannot access elements by index.\n",
        "\n",
        "Mutability:\n",
        "\n",
        "Sets are mutable, meaning you can add or remove elements from a set, but the set will always maintain unique values.\n",
        "\n",
        "Example:"
      ],
      "metadata": {
        "id": "u5h6IoO2-AHN"
      }
    },
    {
      "cell_type": "code",
      "source": [
        "# Creating a set with duplicate values\n",
        "my_set = {1, 2, 3, 3, 4, 5, 5}\n",
        "\n",
        "# Print the set\n",
        "print(my_set)  # Output: {1, 2, 3, 4, 5} (Duplicates are automatically removed)\n"
      ],
      "metadata": {
        "colab": {
          "base_uri": "https://localhost:8080/"
        },
        "id": "xnEfY-m39q-n",
        "outputId": "9a9d63b0-6381-4dd2-c4c8-353d93d7dc37"
      },
      "execution_count": 36,
      "outputs": [
        {
          "output_type": "stream",
          "name": "stdout",
          "text": [
            "{1, 2, 3, 4, 5}\n"
          ]
        }
      ]
    },
    {
      "cell_type": "markdown",
      "source": [
        "In the example above, even though the set contains duplicate values (like 3 and 5), Python only keeps one occurrence of each element.\n",
        "\n",
        "Why Sets Handle Duplicates:\n",
        "The main purpose of sets is to store unique items. This is particularly useful when you want to ensure that each element in a collection is distinct, for example, when you are performing operations like finding the union, intersection, or difference between sets."
      ],
      "metadata": {
        "id": "tpxsH6z_-On8"
      }
    },
    {
      "cell_type": "markdown",
      "source": [
        "##**14.How does the “in” keyword work differently for lists and dictionaries?**"
      ],
      "metadata": {
        "id": "6els8_m0-ZPC"
      }
    },
    {
      "cell_type": "markdown",
      "source": [
        "=>\n",
        "\n",
        "The in keyword in Python is used to check for membership in various data structures, but it works differently for lists and dictionaries.\n",
        "\n",
        "1. In Lists:\n",
        "When used with a list, the in keyword checks if a value exists in the list.\n",
        "\n",
        "It returns True if the specified value is present in the list, and False if the value is not present.\n",
        "\n",
        "Example with Lists:"
      ],
      "metadata": {
        "id": "wwyerxdv-dzi"
      }
    },
    {
      "cell_type": "code",
      "source": [
        "my_list = [1, 2, 3, 4, 5]\n",
        "\n",
        "# Check if a value is in the list\n",
        "print(3 in my_list)  # Output: True\n",
        "print(6 in my_list)  # Output: False\n"
      ],
      "metadata": {
        "colab": {
          "base_uri": "https://localhost:8080/"
        },
        "id": "PXMioImu-Q3X",
        "outputId": "d370342a-8f40-4822-dd21-199091c8d143"
      },
      "execution_count": 37,
      "outputs": [
        {
          "output_type": "stream",
          "name": "stdout",
          "text": [
            "True\n",
            "False\n"
          ]
        }
      ]
    },
    {
      "cell_type": "markdown",
      "source": [
        "In this case, the in keyword checks if the element (value) exists in the list.\n",
        "\n",
        "2. In Dictionaries:\n",
        "When used with a dictionary, the in keyword checks for the presence of keys, not values.\n",
        "\n",
        "It returns True if the key exists in the dictionary, and False if the key does not exist.\n",
        "\n",
        "If you want to check if a specific value exists in the dictionary, you need to explicitly check the values using the values() method.\n",
        "\n",
        "Example with Dictionaries:"
      ],
      "metadata": {
        "id": "ITwm2l5D-q6c"
      }
    },
    {
      "cell_type": "code",
      "source": [
        "my_dict = {\"name\": \"Akhil\", \"age\": 25, \"city\": \"Raebareli\"}\n",
        "\n",
        "# Check if a key is in the dictionary\n",
        "print(\"name\" in my_dict)  # Output: True (checks for the key \"name\")\n",
        "print(\"address\" in my_dict)  # Output: False (key \"address\" does not exist)\n",
        "\n",
        "# Check if a value is in the dictionary\n",
        "print(\"Akhil\" in my_dict.values())  # Output: True (checks for the value \"Akhil\")\n",
        "print(\"Delhi\" in my_dict.values())  # Output: False (value \"Delhi\" does not exist)\n"
      ],
      "metadata": {
        "colab": {
          "base_uri": "https://localhost:8080/"
        },
        "id": "MZk5X3Zt-wTD",
        "outputId": "b10f82d7-91cc-41cf-f438-f4281aea998b"
      },
      "execution_count": 38,
      "outputs": [
        {
          "output_type": "stream",
          "name": "stdout",
          "text": [
            "True\n",
            "False\n",
            "True\n",
            "False\n"
          ]
        }
      ]
    },
    {
      "cell_type": "markdown",
      "source": [
        "In this example, the in keyword checks for keys in the dictionary by default. If you want to check for values, you need to use .values().\n",
        "\n",
        "Summary of Differences:\n",
        "In Lists: The in keyword checks for the existence of a value.\n",
        "\n",
        "In Dictionaries: The in keyword checks for the existence of a key. To check for values, you must use .values()."
      ],
      "metadata": {
        "id": "U31BVH3B-1G6"
      }
    },
    {
      "cell_type": "markdown",
      "source": [
        "##**15.Can you modify the elements of a tuple? Explain why or why not?**"
      ],
      "metadata": {
        "id": "ojd5ELfw-3G2"
      }
    },
    {
      "cell_type": "markdown",
      "source": [
        "=>\n",
        "\n",
        "No, you cannot modify the elements of a tuple in Python once it has been created. This is because tuples are immutable data structures, meaning that their contents cannot be changed after they are initialized.\n",
        "\n",
        "Why Tuples Are Immutable:\n",
        "Immutability: The main reason tuples cannot be modified is that they are designed to be immutable. This means that once a tuple is created, it cannot be altered, and no elements within it can be changed, added, or removed.\n",
        "\n",
        "Performance and Efficiency: Immutability allows Python to optimize memory usage and performance. Since the elements of a tuple can't change, Python can safely use references to the same tuple without worrying about accidental modifications, which is more efficient than using mutable data structures like lists.\n",
        "\n",
        "Data Integrity: Tuples are often used for fixed collections of data where you need to ensure that the data remains consistent and unmodified throughout the program. This is important in cases like passing data between functions or using tuples as keys in dictionaries, where the values must not change.\n",
        "\n",
        "Example of Attempting to Modify a Tuple (Error):"
      ],
      "metadata": {
        "id": "v5ApKkj2_BkO"
      }
    },
    {
      "cell_type": "code",
      "source": [
        "my_tuple = (1, 2, 3, 4)\n",
        "\n",
        "# Trying to modify an element of the tuple (this will raise an error)\n",
        "my_tuple[0] = 10  # Raises TypeError: 'tuple' object does not support item assignment\n"
      ],
      "metadata": {
        "colab": {
          "base_uri": "https://localhost:8080/",
          "height": 176
        },
        "id": "nErg3q2D--Od",
        "outputId": "f9ba9b7a-6c66-4580-d0fd-93140a6971a3"
      },
      "execution_count": 39,
      "outputs": [
        {
          "output_type": "error",
          "ename": "TypeError",
          "evalue": "'tuple' object does not support item assignment",
          "traceback": [
            "\u001b[0;31m---------------------------------------------------------------------------\u001b[0m",
            "\u001b[0;31mTypeError\u001b[0m                                 Traceback (most recent call last)",
            "\u001b[0;32m<ipython-input-39-82718f3aa059>\u001b[0m in \u001b[0;36m<cell line: 0>\u001b[0;34m()\u001b[0m\n\u001b[1;32m      2\u001b[0m \u001b[0;34m\u001b[0m\u001b[0m\n\u001b[1;32m      3\u001b[0m \u001b[0;31m# Trying to modify an element of the tuple (this will raise an error)\u001b[0m\u001b[0;34m\u001b[0m\u001b[0;34m\u001b[0m\u001b[0m\n\u001b[0;32m----> 4\u001b[0;31m \u001b[0mmy_tuple\u001b[0m\u001b[0;34m[\u001b[0m\u001b[0;36m0\u001b[0m\u001b[0;34m]\u001b[0m \u001b[0;34m=\u001b[0m \u001b[0;36m10\u001b[0m  \u001b[0;31m# Raises TypeError: 'tuple' object does not support item assignment\u001b[0m\u001b[0;34m\u001b[0m\u001b[0;34m\u001b[0m\u001b[0m\n\u001b[0m",
            "\u001b[0;31mTypeError\u001b[0m: 'tuple' object does not support item assignment"
          ]
        }
      ]
    },
    {
      "cell_type": "markdown",
      "source": [
        "Important Note:\n",
        "While you cannot change individual elements within a tuple, you can create a new tuple that contains the modified values by concatenating or reassigning the tuple:"
      ],
      "metadata": {
        "id": "jP6UOlrj_XIp"
      }
    },
    {
      "cell_type": "code",
      "source": [
        "my_tuple = (1, 2, 3, 4)\n",
        "# You can create a new tuple by concatenating parts of the old tuple\n",
        "new_tuple = (10,) + my_tuple[1:]\n",
        "print(new_tuple)  # Output: (10, 2, 3, 4)\n"
      ],
      "metadata": {
        "colab": {
          "base_uri": "https://localhost:8080/"
        },
        "id": "cfedg2j1_cp9",
        "outputId": "02698634-b141-4be5-a6a1-c2804713dd5d"
      },
      "execution_count": 40,
      "outputs": [
        {
          "output_type": "stream",
          "name": "stdout",
          "text": [
            "(10, 2, 3, 4)\n"
          ]
        }
      ]
    },
    {
      "cell_type": "markdown",
      "source": [
        "Conclusion:\n",
        "You cannot modify the elements of a tuple in Python because tuples are immutable. This ensures data integrity, improves performance, and makes tuples suitable for use in contexts where the data should remain constant."
      ],
      "metadata": {
        "id": "8YMCnxNw_b5a"
      }
    },
    {
      "cell_type": "markdown",
      "source": [
        "##**16.What is a nested dictionary, and give an example of its use case?**"
      ],
      "metadata": {
        "id": "gTiwLVVT_z_o"
      }
    },
    {
      "cell_type": "markdown",
      "source": [
        "=>\n",
        "\n",
        "A nested dictionary is a dictionary where the value of one or more keys is another dictionary. Essentially, it allows you to store dictionaries inside other dictionaries, which can help represent more complex data structures.\n",
        "\n",
        "Why Use a Nested Dictionary?\n",
        "Nested dictionaries are useful for organizing hierarchical data. This structure allows you to model more complicated relationships, like storing information about people, employees, or items, where each item may have its own set of properties or attributes.\n",
        "\n",
        "Example:\n",
        "Consider the case where you want to store information about employees in a company, including their name, position, and contact details (which are further organized as a dictionary).\n",
        "\n"
      ],
      "metadata": {
        "id": "4Fx8L61r_7Up"
      }
    },
    {
      "cell_type": "code",
      "source": [
        "# A nested dictionary with employee data\n",
        "employees = {\n",
        "    \"E001\": {\n",
        "        \"name\": \"Akhil\",\n",
        "        \"position\": \"Manager\",\n",
        "        \"contact\": {\n",
        "            \"email\": \"akhil@example.com\",\n",
        "            \"phone\": \"1234567890\"\n",
        "        }\n",
        "    },\n",
        "    \"E002\": {\n",
        "        \"name\": \"Raj\",\n",
        "        \"position\": \"Engineer\",\n",
        "        \"contact\": {\n",
        "            \"email\": \"raj@example.com\",\n",
        "            \"phone\": \"0987654321\"\n",
        "        }\n",
        "    }\n",
        "}\n",
        "\n",
        "# Accessing values in the nested dictionary\n",
        "print(employees[\"E001\"][\"name\"])  # Output: Akhil\n",
        "print(employees[\"E002\"][\"contact\"][\"email\"])  # Output: raj@example.com\n"
      ],
      "metadata": {
        "colab": {
          "base_uri": "https://localhost:8080/"
        },
        "id": "OPBCOkYs_5kb",
        "outputId": "bc691369-5233-4de0-ba55-9a3b7ff68f97"
      },
      "execution_count": 42,
      "outputs": [
        {
          "output_type": "stream",
          "name": "stdout",
          "text": [
            "Akhil\n",
            "raj@example.com\n"
          ]
        }
      ]
    },
    {
      "cell_type": "markdown",
      "source": [
        "Use Case Example:\n",
        "In the example above, the employees dictionary is a nested dictionary where:\n",
        "\n",
        "The keys (\"E001\", \"E002\") represent unique employee IDs.\n",
        "\n",
        "Each employee's data (name, position, contact details) is stored in another dictionary, making the data well-organized and easy to access.\n",
        "\n",
        "This structure is ideal for modeling complex relationships, like a team of employees, where each employee has a set of attributes such as name, position, and contact information. It allows you to easily retrieve and modify details about specific employees.\n",
        "\n",
        "Conclusion:\n",
        "A nested dictionary is a powerful way to store hierarchical data in Python, allowing you to organize related pieces of information within the same dictionary. It is especially useful when dealing with structured data, like employee records, product catalogs, or JSON-like data structures."
      ],
      "metadata": {
        "id": "bMSOsIRmALyM"
      }
    },
    {
      "cell_type": "markdown",
      "source": [
        "##**17.Describe the time complexity of accessing elements in a dictionary?**"
      ],
      "metadata": {
        "id": "JkiahtylASR_"
      }
    },
    {
      "cell_type": "markdown",
      "source": [
        "=>\n",
        "\n",
        "In Python, dictionaries are implemented using hash tables, which allow for efficient lookups. The time complexity for accessing elements in a dictionary is O(1) on average, meaning it takes constant time to access an element, regardless of the size of the dictionary.\n",
        "\n",
        "Why Is It O(1)?\n",
        "Hashing: When you access a value in a dictionary using a key, Python uses a hash function to convert the key into a unique hash code. This hash code is then used to locate the value directly in memory, allowing for quick access.\n",
        "\n",
        "Constant Time: Since Python uses hashing to directly locate the value, the time it takes to access the value doesn’t depend on how many items are in the dictionary, as long as there are no collisions (when two keys hash to the same value). In the average case, the time complexity for lookups is O(1), meaning it takes the same amount of time regardless of the size of the dictionary.\n",
        "\n",
        "Example:"
      ],
      "metadata": {
        "id": "ZxXICYBRAVKY"
      }
    },
    {
      "cell_type": "code",
      "source": [
        "my_dict = {\"name\": \"Akhil\", \"age\": 25, \"city\": \"Raebareli\"}\n",
        "\n",
        "# Accessing elements by key\n",
        "print(my_dict[\"name\"])  # Output: Akhil\n",
        "print(my_dict[\"age\"])   # Output: 25\n"
      ],
      "metadata": {
        "colab": {
          "base_uri": "https://localhost:8080/"
        },
        "id": "Er2FmRLkAGsv",
        "outputId": "53ffc580-4107-444d-98bc-893ef834c0cf"
      },
      "execution_count": 43,
      "outputs": [
        {
          "output_type": "stream",
          "name": "stdout",
          "text": [
            "Akhil\n",
            "25\n"
          ]
        }
      ]
    },
    {
      "cell_type": "markdown",
      "source": [
        "Worst-Case Scenario:\n",
        "In some rare cases, such as when hash collisions occur (two different keys hash to the same index in the hash table), the time complexity could degrade to O(n), where n is the number of elements in the dictionary.\n",
        "\n",
        "However, this situation is typically rare due to Python's collision resolution mechanism (like open addressing and chaining) that tries to minimize collisions.\n",
        "\n",
        "Summary:\n",
        "Average Time Complexity: O(1) for accessing, inserting, or deleting elements by key.\n",
        "\n",
        "Worst-Case Time Complexity: O(n), which occurs in cases of hash collisions (though this is rare in practice).\n",
        "\n",
        "Conclusion:\n",
        "The time complexity of accessing elements in a dictionary is typically O(1), making dictionaries a highly efficient data structure for lookups in Python. This is one of the key reasons dictionaries are preferred for fast key-based data retrieval."
      ],
      "metadata": {
        "id": "R2Y53xOVAgfu"
      }
    },
    {
      "cell_type": "markdown",
      "source": [
        "##**18.In what situations are lists preferred over dictionaries?**"
      ],
      "metadata": {
        "id": "JLWMUIp4AnE_"
      }
    },
    {
      "cell_type": "markdown",
      "source": [
        "Lists and dictionaries are both powerful data structures in Python, but they are suited for different scenarios based on the type of data you need to store and how you need to access it. Lists are preferred over dictionaries in certain situations where:\n",
        "\n",
        "1. Order Matters (Indexed Access)\n",
        "Lists maintain the order of elements, meaning the order in which you insert items is preserved. If you need to maintain and access elements based on their position (index), then lists are the preferred choice.\n",
        "\n",
        "Use Case: When you need to store and process items in a specific sequence, such as when dealing with a list of steps in a process or a sequence of numbers."
      ],
      "metadata": {
        "id": "VZ0dwk3NAqYX"
      }
    },
    {
      "cell_type": "code",
      "source": [
        "# Example of a list where order matters\n",
        "shopping_list = [\"apple\", \"banana\", \"cherry\"]\n",
        "\n",
        "# Accessing elements by index\n",
        "print(shopping_list[0])  # Output: apple\n"
      ],
      "metadata": {
        "colab": {
          "base_uri": "https://localhost:8080/"
        },
        "id": "R9tWx_7CAdXW",
        "outputId": "8f4826af-e66f-4f36-b053-c6bc3d990cca"
      },
      "execution_count": 44,
      "outputs": [
        {
          "output_type": "stream",
          "name": "stdout",
          "text": [
            "apple\n"
          ]
        }
      ]
    },
    {
      "cell_type": "markdown",
      "source": [
        "2. When You Don't Need Key-Value Pairs\n",
        "Dictionaries are designed to store data as key-value pairs, which makes them ideal when you need to associate keys with specific values. On the other hand, if you don't need to associate data with a specific key but just need to store a collection of values, lists are more appropriate.\n",
        "\n",
        "Use Case: When you just need a collection of values or a sequence, and don't need to associate each item with a unique key, such as a list of numbers, strings, or objects."
      ],
      "metadata": {
        "id": "02N7C5CCAyEO"
      }
    },
    {
      "cell_type": "code",
      "source": [
        "# Example of a list with no need for key-value pairs\n",
        "numbers = [1, 2, 3, 4, 5]\n"
      ],
      "metadata": {
        "id": "RIASDdOdAvdu"
      },
      "execution_count": 45,
      "outputs": []
    },
    {
      "cell_type": "markdown",
      "source": [
        "3. When You Need to Iterate Over All Elements\n",
        "Lists are ideal when you need to iterate over all the elements sequentially. You can loop through a list easily using a for loop, which makes it straightforward to apply operations to each element.\n",
        "\n",
        "Use Case: When performing operations like calculating the sum of a series of numbers or processing each item in a collection."
      ],
      "metadata": {
        "id": "dJ0xhVhNA2L-"
      }
    },
    {
      "cell_type": "code",
      "source": [
        "# Example: Iterating over a list\n",
        "numbers = [1, 2, 3, 4, 5]\n",
        "for number in numbers:\n",
        "    print(number)\n"
      ],
      "metadata": {
        "colab": {
          "base_uri": "https://localhost:8080/"
        },
        "id": "rWzrY08yA0KJ",
        "outputId": "40c494ff-564e-4d17-dc50-44922d0a59da"
      },
      "execution_count": 46,
      "outputs": [
        {
          "output_type": "stream",
          "name": "stdout",
          "text": [
            "1\n",
            "2\n",
            "3\n",
            "4\n",
            "5\n"
          ]
        }
      ]
    },
    {
      "cell_type": "markdown",
      "source": [
        "4. When You Need to Store Duplicate Values\n",
        "Lists allow you to store duplicate values, which can be useful when you want to maintain a collection where the same item might appear more than once. In contrast, dictionaries automatically discard duplicate keys (though values can be duplicated).\n",
        "\n",
        "Use Case: When you're dealing with a collection where the same item might occur multiple times, such as a list of votes, items in stock, or tags that can be repeated."
      ],
      "metadata": {
        "id": "KIJdKwrvA6Uq"
      }
    },
    {
      "cell_type": "code",
      "source": [
        "# Example: Storing duplicates in a list\n",
        "votes = [\"Akhil\", \"Raj\", \"Akhil\", \"Maya\"]\n"
      ],
      "metadata": {
        "id": "3Zzwr6gbA4Hp"
      },
      "execution_count": 47,
      "outputs": []
    },
    {
      "cell_type": "markdown",
      "source": [
        "5. When You Need to Modify the Order or Elements Frequently\n",
        "Lists provide methods like append(), insert(), remove(), and pop(), which allow you to modify the list dynamically. If you need to frequently add, remove, or reorder elements, lists are better suited for such tasks.\n",
        "\n",
        "Use Case: When building a dynamic collection that changes over time, such as adding or removing elements from a queue or stack."
      ],
      "metadata": {
        "id": "hygJAyebA9Th"
      }
    },
    {
      "cell_type": "code",
      "source": [
        "# Example: Modifying a list\n",
        "my_list = [1, 2, 3]\n",
        "my_list.append(4)  # Adds 4 to the list\n",
        "my_list.remove(2)  # Removes 2 from the list\n",
        "print(my_list)  # Output: [1, 3, 4]\n"
      ],
      "metadata": {
        "colab": {
          "base_uri": "https://localhost:8080/"
        },
        "id": "7clemDcmA83-",
        "outputId": "17fa7e23-4b6b-4dde-ab22-13dfb0ed1f77"
      },
      "execution_count": 48,
      "outputs": [
        {
          "output_type": "stream",
          "name": "stdout",
          "text": [
            "[1, 3, 4]\n"
          ]
        }
      ]
    },
    {
      "cell_type": "markdown",
      "source": [
        "Conclusion:\n",
        "Lists are preferred over dictionaries when:\n",
        "\n",
        "You need to maintain the order of elements.\n",
        "\n",
        "You are working with a sequence of values that don’t require key-value pairs.\n",
        "\n",
        "You need to store duplicates or frequently modify the order and content of the collection.\n",
        "\n",
        "You want to iterate over all elements in a simple, sequential manner."
      ],
      "metadata": {
        "id": "JbvmwCTqBFUy"
      }
    },
    {
      "cell_type": "markdown",
      "source": [
        "##**19.Why are dictionaries considered unordered, and how does that affect data retrieval?**"
      ],
      "metadata": {
        "id": "uN2RIOu5BeMm"
      }
    },
    {
      "cell_type": "markdown",
      "source": [
        "=>\n",
        "\n",
        "In Python, dictionaries are considered unordered because, starting from Python 3.7, while the insertion order of key-value pairs is preserved, dictionaries do not guarantee a particular order in terms of their internal storage structure. This means that although the elements appear in the same order in which they were inserted when you iterate over the dictionary, the underlying hash table mechanism does not inherently maintain order in the way lists do.\n",
        "\n",
        "Why Are Dictionaries Unordered?\n",
        "Hash Table Implementation: Python dictionaries use a hash table for internal storage. Each key in a dictionary is hashed to a specific index in the hash table, and the values are stored at that index. This hashing process does not consider the order in which the elements were added, so the dictionary itself is unordered.\n",
        "\n",
        "No Indexing: Unlike lists, which are ordered collections and allow access to elements via their index (position), dictionaries are accessed by keys. Since there’s no internal indexing system based on order, dictionaries are classified as unordered collections.\n",
        "\n",
        "What Does Unordered Mean for Data Retrieval?\n",
        "Data Retrieval by Key: Despite being unordered, the key-value lookup in a dictionary remains efficient. When you use the in keyword or access a value with a key (e.g., dict[key]), the time complexity is O(1) on average, because Python uses the hash value of the key to directly locate the corresponding value. The order of the keys doesn’t affect how fast the retrieval happens.\n",
        "\n",
        "Iteration Order: Even though dictionaries preserve the insertion order starting from Python 3.7, you shouldn’t rely on this order for processing unless you specifically need it. If the order of the items matters, you might prefer to use lists or ordered collections like OrderedDict (available in the collections module prior to Python 3.7) for guaranteed ordering.\n",
        "\n",
        "Example:"
      ],
      "metadata": {
        "id": "xewLCrZQBuk7"
      }
    },
    {
      "cell_type": "code",
      "source": [
        "my_dict = {\"name\": \"Akhil\", \"age\": 25, \"city\": \"Raebareli\"}\n",
        "\n",
        "# Accessing an element by key\n",
        "print(my_dict[\"name\"])  # Output: Akhil\n",
        "\n",
        "# Iterating through a dictionary (order is insertion order in Python 3.7+)\n",
        "for key, value in my_dict.items():\n",
        "    print(key, value)\n",
        "# Output:\n",
        "# name Akhil\n",
        "# age 25\n",
        "# city Raebareli\n"
      ],
      "metadata": {
        "colab": {
          "base_uri": "https://localhost:8080/"
        },
        "id": "h5ZQJOL3BBBG",
        "outputId": "99252726-f21b-4c59-8ddc-db5615a292dc"
      },
      "execution_count": 49,
      "outputs": [
        {
          "output_type": "stream",
          "name": "stdout",
          "text": [
            "Akhil\n",
            "name Akhil\n",
            "age 25\n",
            "city Raebareli\n"
          ]
        }
      ]
    },
    {
      "cell_type": "markdown",
      "source": [
        "Key Points to Remember:\n",
        "Unordered Collection: Dictionaries are unordered in the sense that the elements’ internal arrangement is not based on their insertion order, although the insertion order is preserved in Python 3.7 and later when iterating over the dictionary.\n",
        "\n",
        "Data Retrieval: Despite being unordered, data retrieval in dictionaries is very fast and not affected by the order. The dictionary still allows for quick access by key.\n",
        "\n",
        "Iteration: You can iterate through a dictionary in insertion order (since Python 3.7), but do not rely on this order for critical tasks that depend on the sequence of elements.\n",
        "\n",
        "Conclusion:\n",
        "Dictionaries are considered unordered because they store their elements in a hash table, where the order of elements is not guaranteed. However, this does not impact data retrieval by keys, which remains efficient, and it is only important when iterating or needing to rely on the order of insertion."
      ],
      "metadata": {
        "id": "1eUtiEGIB5gP"
      }
    },
    {
      "cell_type": "markdown",
      "source": [
        "##**20.Explain the difference between a list and a dictionary in terms of data retrieval.**"
      ],
      "metadata": {
        "id": "KEDvP7abC7bj"
      }
    },
    {
      "cell_type": "markdown",
      "source": [
        "=>\n",
        "\n",
        "In Python, lists and dictionaries are both used to store collections of data, but they differ significantly in how data is stored and retrieved.\n",
        "\n",
        "1. Data Retrieval in a List:\n",
        "\n",
        "Indexed Access: Lists store elements in a sequential, ordered manner, where each element is assigned an index (starting from 0). You retrieve data by specifying the index of the element you want to access.\n",
        "\n",
        "Time Complexity:\n",
        "The time complexity for retrieving an element from a list using an index is O(1) because the index is used to directly locate the element in memory.\n",
        "\n",
        "Example:"
      ],
      "metadata": {
        "id": "MJFDS9_ZDNuJ"
      }
    },
    {
      "cell_type": "code",
      "source": [
        "my_list = [\"apple\", \"banana\", \"cherry\"]\n",
        "print(my_list[1])  # Output: banana\n"
      ],
      "metadata": {
        "colab": {
          "base_uri": "https://localhost:8080/"
        },
        "id": "mji8EEHkByhW",
        "outputId": "0f454d20-3d6d-4212-f06e-e26df9dfdc85"
      },
      "execution_count": 50,
      "outputs": [
        {
          "output_type": "stream",
          "name": "stdout",
          "text": [
            "banana\n"
          ]
        }
      ]
    },
    {
      "cell_type": "markdown",
      "source": [
        "In this case, my_list[1] directly accesses the element at index 1 (i.e., \"banana\")."
      ],
      "metadata": {
        "id": "RTx95FKSDSFQ"
      }
    },
    {
      "cell_type": "markdown",
      "source": [
        "2. Data Retrieval in a Dictionary:\n",
        "\n",
        "Key-Based Access: In a dictionary, data is stored as key-value pairs. You retrieve data by providing the key, not an index. The key is hashed to locate the associated value.\n",
        "\n",
        "Time Complexity:\n",
        "\n",
        " The time complexity for retrieving a value in a dictionary by its key is O(1) on average because Python uses a hash table to map keys to values. The hash function directly computes the location of the value, making lookups very fast.\n",
        "\n",
        "Example:"
      ],
      "metadata": {
        "id": "F9vg1-qCDbr7"
      }
    },
    {
      "cell_type": "code",
      "source": [
        "my_dict = {\"name\": \"Akhil\", \"age\": 25, \"city\": \"Raebareli\"}\n",
        "print(my_dict[\"age\"])  # Output: 25\n"
      ],
      "metadata": {
        "colab": {
          "base_uri": "https://localhost:8080/"
        },
        "id": "5kbcjyYrDRKC",
        "outputId": "61b9bf92-e9ae-463b-a04a-e8be81612404"
      },
      "execution_count": 51,
      "outputs": [
        {
          "output_type": "stream",
          "name": "stdout",
          "text": [
            "25\n"
          ]
        }
      ]
    },
    {
      "cell_type": "markdown",
      "source": [
        "In this case, my_dict[\"age\"] directly retrieves the value associated with the key \"age\" (i.e., 25)."
      ],
      "metadata": {
        "id": "12PpCvxeDhUA"
      }
    },
    {
      "cell_type": "markdown",
      "source": [
        "Example Scenario:\n",
        "\n",
        "List Use Case: If you have a list of names and need to access a name at a specific position, you would use the index."
      ],
      "metadata": {
        "id": "lVuyvMSNDmSs"
      }
    },
    {
      "cell_type": "code",
      "source": [
        "names = [\"Akhil\", \"Raj\", \"Maya\"]\n",
        "print(names[2])  # Output: Maya (accessing by index)\n"
      ],
      "metadata": {
        "colab": {
          "base_uri": "https://localhost:8080/"
        },
        "id": "_cIKhrSWDgNk",
        "outputId": "53c59b1c-1263-4a64-8829-0b9ff6a8beb4"
      },
      "execution_count": 52,
      "outputs": [
        {
          "output_type": "stream",
          "name": "stdout",
          "text": [
            "Maya\n"
          ]
        }
      ]
    },
    {
      "cell_type": "markdown",
      "source": [
        "Dictionary Use Case: If you want to store and retrieve information about a person, you would use keys to identify each attribute, such as \"name\" and \"age\"."
      ],
      "metadata": {
        "id": "uBieSuRJDrSx"
      }
    },
    {
      "cell_type": "code",
      "source": [
        "person = {\"name\": \"Akhil\", \"age\": 25, \"city\": \"Raebareli\"}\n",
        "print(person[\"name\"])  # Output: Akhil (accessing by key)\n"
      ],
      "metadata": {
        "colab": {
          "base_uri": "https://localhost:8080/"
        },
        "id": "pJrIheCADo8p",
        "outputId": "8ccddae8-2d8f-4c1a-c51f-899b3aa42d80"
      },
      "execution_count": 53,
      "outputs": [
        {
          "output_type": "stream",
          "name": "stdout",
          "text": [
            "Akhil\n"
          ]
        }
      ]
    },
    {
      "cell_type": "markdown",
      "source": [
        "Conclusion:\n",
        "Lists are used for sequential data where access is based on an index.\n",
        "\n",
        "Dictionaries are used for key-value pairs, where you retrieve data by specifying a key rather than an index.\n",
        "\n",
        "In terms of data retrieval:\n",
        "\n",
        "Lists offer indexed access to elements, making them suitable for ordered collections.\n",
        "\n",
        "Dictionaries provide fast retrieval by key, ideal for scenarios where you need to map unique keys to values."
      ],
      "metadata": {
        "id": "xhpqOsvIDyiE"
      }
    },
    {
      "cell_type": "markdown",
      "source": [
        "#**Practical Questions**"
      ],
      "metadata": {
        "id": "TOgGzNUkD8Af"
      }
    },
    {
      "cell_type": "markdown",
      "source": [
        "##**1.Write a code to create a string with your name and print it**"
      ],
      "metadata": {
        "id": "WkDazX8uEHH2"
      }
    },
    {
      "cell_type": "code",
      "source": [
        "# Creating a string with my name\n",
        "name = \"Akhil Harikumar Nair\"\n",
        "\n",
        "# Printing the string\n",
        "print(name)\n"
      ],
      "metadata": {
        "colab": {
          "base_uri": "https://localhost:8080/"
        },
        "id": "7GQTvwYvDxwM",
        "outputId": "f114c6a5-455a-441d-a266-2cad6494c993"
      },
      "execution_count": 55,
      "outputs": [
        {
          "output_type": "stream",
          "name": "stdout",
          "text": [
            "Akhil Harikumar Nair\n"
          ]
        }
      ]
    },
    {
      "cell_type": "markdown",
      "source": [
        "##**2.Write a code to find the length of the string \"Hello World\"**"
      ],
      "metadata": {
        "id": "2Sh6Qx9EEVZ_"
      }
    },
    {
      "cell_type": "code",
      "source": [
        "# Defining the string\n",
        "my_string = \"Hello World\"\n",
        "\n",
        "# Finding the length of the string\n",
        "length = len(my_string)\n",
        "\n",
        "# Printing the length\n",
        "print(\"The length of the string is:\", length)\n"
      ],
      "metadata": {
        "colab": {
          "base_uri": "https://localhost:8080/"
        },
        "id": "DWaPm5ppEQbZ",
        "outputId": "bc029168-7450-47df-ba8f-142d3e16f0d4"
      },
      "execution_count": 56,
      "outputs": [
        {
          "output_type": "stream",
          "name": "stdout",
          "text": [
            "The length of the string is: 11\n"
          ]
        }
      ]
    },
    {
      "cell_type": "markdown",
      "source": [
        "##**3.Write a code to slice the first 3 characters from the string \"Python Programming\"**"
      ],
      "metadata": {
        "id": "rdk9NVXrEkIN"
      }
    },
    {
      "cell_type": "code",
      "source": [
        "# Defining the string\n",
        "my_string = \"Python Programming\"\n",
        "\n",
        "# Slicing the first 3 characters\n",
        "sliced_string = my_string[:3]\n",
        "\n",
        "# Printing the sliced string\n",
        "print(\"The first 3 characters are:\", sliced_string)"
      ],
      "metadata": {
        "colab": {
          "base_uri": "https://localhost:8080/"
        },
        "id": "yNHQB3JhEeet",
        "outputId": "93f7fafa-4042-42e0-ebde-5198f2caad8f"
      },
      "execution_count": 57,
      "outputs": [
        {
          "output_type": "stream",
          "name": "stdout",
          "text": [
            "The first 3 characters are: Pyt\n"
          ]
        }
      ]
    },
    {
      "cell_type": "markdown",
      "source": [
        "##**4.Write a code to convert the string \"hello\" to uppercase**"
      ],
      "metadata": {
        "id": "NwNXbkf5E94_"
      }
    },
    {
      "cell_type": "code",
      "source": [
        "# Defining the string\n",
        "my_string = \"hello\"\n",
        "\n",
        "# Converting the string to uppercase\n",
        "uppercase_string = my_string.upper()\n",
        "\n",
        "# Printing the uppercase string\n",
        "print(\"The uppercase string is:\", uppercase_string)\n"
      ],
      "metadata": {
        "colab": {
          "base_uri": "https://localhost:8080/"
        },
        "id": "rs4QA1_oEvyO",
        "outputId": "455afccd-c899-45dc-8666-7ef0140487cf"
      },
      "execution_count": 58,
      "outputs": [
        {
          "output_type": "stream",
          "name": "stdout",
          "text": [
            "The uppercase string is: HELLO\n"
          ]
        }
      ]
    },
    {
      "cell_type": "markdown",
      "source": [
        "#**5.Write a code to replace the word \"apple\" with \"orange\" in the string \"I like apple**"
      ],
      "metadata": {
        "id": "eL_gdZOEFMNn"
      }
    },
    {
      "cell_type": "code",
      "source": [
        "# Defining the string\n",
        "my_string = \"I like apple\"\n",
        "\n",
        "# Replacing \"apple\" with \"orange\"\n",
        "new_string = my_string.replace(\"apple\", \"orange\")\n",
        "\n",
        "# Printing the modified string\n",
        "print(\"The modified string is:\", new_string)\n"
      ],
      "metadata": {
        "colab": {
          "base_uri": "https://localhost:8080/"
        },
        "id": "IZY9EQg_FF9P",
        "outputId": "d9b35c63-c8e7-48ad-a2d0-5b3a2cc137d0"
      },
      "execution_count": 59,
      "outputs": [
        {
          "output_type": "stream",
          "name": "stdout",
          "text": [
            "The modified string is: I like orange\n"
          ]
        }
      ]
    },
    {
      "cell_type": "markdown",
      "source": [
        "##**6.Write a code to create a list with numbers 1 to 5 and print it**"
      ],
      "metadata": {
        "id": "5IwFLgCtFc71"
      }
    },
    {
      "cell_type": "code",
      "source": [
        "# Creating a list with numbers 1 to 5\n",
        "my_list = [1, 2, 3, 4, 5]\n",
        "\n",
        "# Printing the list\n",
        "print(\"The list is:\", my_list)\n",
        "\n"
      ],
      "metadata": {
        "colab": {
          "base_uri": "https://localhost:8080/"
        },
        "id": "PTXcQLG9FP82",
        "outputId": "6c5d2a45-956f-445c-b8e7-230cff7ae200"
      },
      "execution_count": 60,
      "outputs": [
        {
          "output_type": "stream",
          "name": "stdout",
          "text": [
            "The list is: [1, 2, 3, 4, 5]\n"
          ]
        }
      ]
    },
    {
      "cell_type": "markdown",
      "source": [
        "##**7.Write a code to append the number 10 to the list [1, 2, 3, 4].**"
      ],
      "metadata": {
        "id": "ZaBNIhFZFwWp"
      }
    },
    {
      "cell_type": "code",
      "source": [
        "# Defining the list\n",
        "my_list = [1, 2, 3, 4]\n",
        "\n",
        "# Appending the number 10 to the list\n",
        "my_list.append(10)\n",
        "\n",
        "# Printing the updated list\n",
        "print(\"The updated list is:\", my_list)\n"
      ],
      "metadata": {
        "colab": {
          "base_uri": "https://localhost:8080/"
        },
        "id": "6C-Ly-rIFiyW",
        "outputId": "b8fdfd2d-1c8a-425d-aa61-9db553e2de8e"
      },
      "execution_count": 61,
      "outputs": [
        {
          "output_type": "stream",
          "name": "stdout",
          "text": [
            "The updated list is: [1, 2, 3, 4, 10]\n"
          ]
        }
      ]
    },
    {
      "cell_type": "markdown",
      "source": [
        "##**8.Write a code to remove the number 3 from the list [1, 2, 3, 4, 5]**"
      ],
      "metadata": {
        "id": "10sBlBVpF7uC"
      }
    },
    {
      "cell_type": "code",
      "source": [
        "# Defining the list\n",
        "my_list = [1, 2, 3, 4, 5]\n",
        "\n",
        "# Removing the number 3 from the list\n",
        "my_list.remove(3)\n",
        "\n",
        "# Printing the updated list\n",
        "print(\"The updated list is:\", my_list)\n"
      ],
      "metadata": {
        "colab": {
          "base_uri": "https://localhost:8080/"
        },
        "id": "hyGpljmAF1jy",
        "outputId": "d8c4d26d-0758-4487-e662-0e3d5bc67ee6"
      },
      "execution_count": 62,
      "outputs": [
        {
          "output_type": "stream",
          "name": "stdout",
          "text": [
            "The updated list is: [1, 2, 4, 5]\n"
          ]
        }
      ]
    },
    {
      "cell_type": "markdown",
      "source": [
        "##**9.Write a code to access the second element in the list ['a', 'b', 'c', 'd']**"
      ],
      "metadata": {
        "id": "xzn2pLL6GI42"
      }
    },
    {
      "cell_type": "code",
      "source": [
        "# Defining the list\n",
        "my_list = ['a', 'b', 'c', 'd']\n",
        "\n",
        "# Accessing the second element (index 1)\n",
        "second_element = my_list[1]\n",
        "\n",
        "# Printing the second element\n",
        "print(\"The second element is:\", second_element)\n"
      ],
      "metadata": {
        "colab": {
          "base_uri": "https://localhost:8080/"
        },
        "id": "M1XYtCV5GDFf",
        "outputId": "c28cbf9d-86cd-4aba-a8cb-5e1670cf5575"
      },
      "execution_count": 63,
      "outputs": [
        {
          "output_type": "stream",
          "name": "stdout",
          "text": [
            "The second element is: b\n"
          ]
        }
      ]
    },
    {
      "cell_type": "markdown",
      "source": [
        "##**10.Write a code to reverse the list [10, 20, 30, 40, 50].**"
      ],
      "metadata": {
        "id": "TRe2rrPmGyzT"
      }
    },
    {
      "cell_type": "code",
      "source": [
        "# Defining the list\n",
        "my_list = [10, 20, 30, 40, 50]\n",
        "\n",
        "# Reversing the list\n",
        "my_list.reverse()\n",
        "\n",
        "# Printing the reversed list\n",
        "print(\"The reversed list is:\", my_list)\n"
      ],
      "metadata": {
        "colab": {
          "base_uri": "https://localhost:8080/"
        },
        "id": "jR-8jPMgGNEr",
        "outputId": "eb261ba3-e4f6-4529-bdcf-588cd82d12be"
      },
      "execution_count": 64,
      "outputs": [
        {
          "output_type": "stream",
          "name": "stdout",
          "text": [
            "The reversed list is: [50, 40, 30, 20, 10]\n"
          ]
        }
      ]
    },
    {
      "cell_type": "markdown",
      "source": [
        "## **11.Write a code to create a tuple with the elements 100, 200, 300 and print it.**"
      ],
      "metadata": {
        "id": "oNNf261AHtz4"
      }
    },
    {
      "cell_type": "code",
      "source": [
        "# Creating a tuple with elements 100, 200, and 300\n",
        "my_tuple = (100, 200, 300)\n",
        "\n",
        "# Printing the tuple\n",
        "print(\"The tuple is:\", my_tuple)\n"
      ],
      "metadata": {
        "colab": {
          "base_uri": "https://localhost:8080/"
        },
        "id": "wGf0JdUYG5qV",
        "outputId": "e086f310-1e27-4b17-bd46-6d90e5f2b69d"
      },
      "execution_count": 65,
      "outputs": [
        {
          "output_type": "stream",
          "name": "stdout",
          "text": [
            "The tuple is: (100, 200, 300)\n"
          ]
        }
      ]
    },
    {
      "cell_type": "markdown",
      "source": [
        "## **12. Write a code to access the second-to-last element of the tuple ('red', 'green', 'blue', 'yellow').**"
      ],
      "metadata": {
        "id": "WxehvGNQIBf3"
      }
    },
    {
      "cell_type": "code",
      "source": [
        "# Defining the tuple\n",
        "my_tuple = ('red', 'green', 'blue', 'yellow')\n",
        "\n",
        "# Accessing the second-to-last element\n",
        "second_to_last_element = my_tuple[-2]\n",
        "\n",
        "# Printing the second-to-last element\n",
        "print(\"The second-to-last element is:\", second_to_last_element)\n"
      ],
      "metadata": {
        "colab": {
          "base_uri": "https://localhost:8080/"
        },
        "id": "HL9Ser9LH61P",
        "outputId": "c5c9cc46-e2a7-45ef-e81f-70556f9d7869"
      },
      "execution_count": 66,
      "outputs": [
        {
          "output_type": "stream",
          "name": "stdout",
          "text": [
            "The second-to-last element is: blue\n"
          ]
        }
      ]
    },
    {
      "cell_type": "markdown",
      "source": [
        "##**13.Write a code to find the minimum number in the tuple (10, 20, 5, 15).**"
      ],
      "metadata": {
        "id": "iJZrhOH_IQFb"
      }
    },
    {
      "cell_type": "code",
      "source": [
        "# Defining the tuple\n",
        "my_tuple = (10, 20, 5, 15)\n",
        "\n",
        "# Finding the minimum number in the tuple\n",
        "min_value = min(my_tuple)\n",
        "\n",
        "# Printing the minimum number\n",
        "print(\"The minimum number in the tuple is:\", min_value)\n"
      ],
      "metadata": {
        "colab": {
          "base_uri": "https://localhost:8080/"
        },
        "id": "rFV7T7spIGrK",
        "outputId": "c0aa9442-ec09-4b99-8f95-dd43f7061eed"
      },
      "execution_count": 67,
      "outputs": [
        {
          "output_type": "stream",
          "name": "stdout",
          "text": [
            "The minimum number in the tuple is: 5\n"
          ]
        }
      ]
    },
    {
      "cell_type": "markdown",
      "source": [
        "##**14.Write a code to find the index of the element \"cat\" in the tuple ('dog', 'cat', 'rabbit').**"
      ],
      "metadata": {
        "id": "WeIRubWoIcY6"
      }
    },
    {
      "cell_type": "code",
      "source": [
        "# Defining the tuple\n",
        "my_tuple = ('dog', 'cat', 'rabbit')\n",
        "\n",
        "# Finding the index of the element \"cat\"\n",
        "index_of_cat = my_tuple.index('cat')\n",
        "\n",
        "# Printing the index\n",
        "print(\"The index of 'cat' in the tuple is:\", index_of_cat)\n"
      ],
      "metadata": {
        "colab": {
          "base_uri": "https://localhost:8080/"
        },
        "id": "UKeQm6lvIWzx",
        "outputId": "9b8d4a2c-faf7-4272-c093-7538df72ecbe"
      },
      "execution_count": 68,
      "outputs": [
        {
          "output_type": "stream",
          "name": "stdout",
          "text": [
            "The index of 'cat' in the tuple is: 1\n"
          ]
        }
      ]
    },
    {
      "cell_type": "markdown",
      "source": [
        "##**15.Write a code to create a tuple containing three different fruits and check if \"kiwi\" is in it.**"
      ],
      "metadata": {
        "id": "KsrWBkfqI7Ou"
      }
    },
    {
      "cell_type": "code",
      "source": [
        "# Creating a tuple with three different fruits\n",
        "fruits_tuple = ('apple', 'banana', 'orange')\n",
        "\n",
        "# Checking if \"kiwi\" is in the tuple\n",
        "is_kiwi_in_tuple = 'kiwi' in fruits_tuple\n",
        "\n",
        "# Printing the result\n",
        "print(\"Is 'kiwi' in the tuple?\", is_kiwi_in_tuple)\n"
      ],
      "metadata": {
        "colab": {
          "base_uri": "https://localhost:8080/"
        },
        "id": "A5vUOaDuI0p9",
        "outputId": "02c9bbbf-c18a-4cff-fb8e-e2935f6a8eda"
      },
      "execution_count": 69,
      "outputs": [
        {
          "output_type": "stream",
          "name": "stdout",
          "text": [
            "Is 'kiwi' in the tuple? False\n"
          ]
        }
      ]
    },
    {
      "cell_type": "markdown",
      "source": [
        "## **16.Write a code to create a set with the elements 'a', 'b', 'c' and print it.**"
      ],
      "metadata": {
        "id": "CbsXoriQJJ0w"
      }
    },
    {
      "cell_type": "code",
      "source": [
        "# Creating a set with elements 'a', 'b', and 'c'\n",
        "my_set = {'a', 'b', 'c'}\n",
        "\n",
        "# Printing the set\n",
        "print(\"The set is:\", my_set)\n"
      ],
      "metadata": {
        "colab": {
          "base_uri": "https://localhost:8080/"
        },
        "id": "6FzdTHsGJB5w",
        "outputId": "6d315834-112d-4879-8e04-cef9a6f0d75a"
      },
      "execution_count": 70,
      "outputs": [
        {
          "output_type": "stream",
          "name": "stdout",
          "text": [
            "The set is: {'c', 'b', 'a'}\n"
          ]
        }
      ]
    },
    {
      "cell_type": "markdown",
      "source": [
        "## **17.Write a code to clear all elements from the set {1, 2, 3, 4, 5}.**"
      ],
      "metadata": {
        "id": "b8_co0W6Jjt3"
      }
    },
    {
      "cell_type": "code",
      "source": [
        "# Defining the set\n",
        "my_set = {1, 2, 3, 4, 5}\n",
        "\n",
        "# Clearing all elements from the set\n",
        "my_set.clear()\n",
        "\n",
        "# Printing the cleared set\n",
        "print(\"The set after clearing all elements:\", my_set)\n"
      ],
      "metadata": {
        "colab": {
          "base_uri": "https://localhost:8080/"
        },
        "id": "rGu6QpZwJcx1",
        "outputId": "8d6b66db-9726-478f-8be9-6e009f2aac51"
      },
      "execution_count": 71,
      "outputs": [
        {
          "output_type": "stream",
          "name": "stdout",
          "text": [
            "The set after clearing all elements: set()\n"
          ]
        }
      ]
    },
    {
      "cell_type": "markdown",
      "source": [
        "## **18.Write a code to remove the element 4 from the set {1, 2, 3, 4}.**"
      ],
      "metadata": {
        "id": "4QT56r7DJupw"
      }
    },
    {
      "cell_type": "code",
      "source": [
        "# Defining the set\n",
        "my_set = {1, 2, 3, 4}\n",
        "\n",
        "# Removing the element 4 from the set\n",
        "my_set.remove(4)\n",
        "\n",
        "# Printing the updated set\n",
        "print(\"The set after removing 4:\", my_set)\n"
      ],
      "metadata": {
        "colab": {
          "base_uri": "https://localhost:8080/"
        },
        "id": "alZ2u2xxJqPY",
        "outputId": "ce4e91dd-08ed-4e70-f518-84aa606c77c6"
      },
      "execution_count": 72,
      "outputs": [
        {
          "output_type": "stream",
          "name": "stdout",
          "text": [
            "The set after removing 4: {1, 2, 3}\n"
          ]
        }
      ]
    },
    {
      "cell_type": "markdown",
      "source": [
        "## **19.Write a code to find the union of two sets {1, 2, 3} and {3, 4, 5}.**\n"
      ],
      "metadata": {
        "id": "VEgliHsgJ-pE"
      }
    },
    {
      "cell_type": "code",
      "source": [
        "# Defining the sets\n",
        "set1 = {1, 2, 3}\n",
        "set2 = {3, 4, 5}\n",
        "\n",
        "# Finding the union of the two sets\n",
        "union_set = set1.union(set2)\n",
        "\n",
        "# Printing the union of the sets\n",
        "print(\"The union of the sets is:\", union_set)\n"
      ],
      "metadata": {
        "colab": {
          "base_uri": "https://localhost:8080/"
        },
        "id": "tjh7yQBEJzBU",
        "outputId": "0accec04-c897-4bd1-cbd6-699fabd20c38"
      },
      "execution_count": 73,
      "outputs": [
        {
          "output_type": "stream",
          "name": "stdout",
          "text": [
            "The union of the sets is: {1, 2, 3, 4, 5}\n"
          ]
        }
      ]
    },
    {
      "cell_type": "markdown",
      "source": [
        "## **20.Write a code to find the intersection of two sets {1, 2, 3} and {2, 3, 4}.**"
      ],
      "metadata": {
        "id": "rjTb4OX9KLxp"
      }
    },
    {
      "cell_type": "code",
      "source": [
        "# Defining the sets\n",
        "set1 = {1, 2, 3}\n",
        "set2 = {2, 3, 4}\n",
        "\n",
        "# Finding the intersection of the two sets\n",
        "intersection_set = set1.intersection(set2)\n",
        "\n",
        "# Printing the intersection of the sets\n",
        "print(\"The intersection of the sets is:\", intersection_set)\n"
      ],
      "metadata": {
        "colab": {
          "base_uri": "https://localhost:8080/"
        },
        "id": "oXb8EBDGKD3-",
        "outputId": "1e640fa2-2519-45b7-89d8-741c9b0857be"
      },
      "execution_count": 74,
      "outputs": [
        {
          "output_type": "stream",
          "name": "stdout",
          "text": [
            "The intersection of the sets is: {2, 3}\n"
          ]
        }
      ]
    },
    {
      "cell_type": "markdown",
      "source": [
        "##**21.Write a code to create a dictionary with the keys \"name\", \"age\", and \"city\", and print it.**"
      ],
      "metadata": {
        "id": "FYOaWG96KbJc"
      }
    },
    {
      "cell_type": "code",
      "source": [
        "# Creating a dictionary with keys \"name\", \"age\", and \"city\"\n",
        "my_dict = {\n",
        "    \"name\": \"John\",\n",
        "    \"age\": 25,\n",
        "    \"city\": \"New York\"\n",
        "}\n",
        "\n",
        "# Printing the dictionary\n",
        "print(\"The dictionary is:\", my_dict)\n"
      ],
      "metadata": {
        "colab": {
          "base_uri": "https://localhost:8080/"
        },
        "id": "ZVCnwA27KWgz",
        "outputId": "2ef2096c-12fa-4353-a844-bef9c44ac512"
      },
      "execution_count": 75,
      "outputs": [
        {
          "output_type": "stream",
          "name": "stdout",
          "text": [
            "The dictionary is: {'name': 'John', 'age': 25, 'city': 'New York'}\n"
          ]
        }
      ]
    },
    {
      "cell_type": "markdown",
      "source": [
        "## **22. Write a code to add a new key-value pair \"country\": \"USA\" to the dictionary {'name': 'John', 'age': 25}.**"
      ],
      "metadata": {
        "id": "KVMYn56iKsVx"
      }
    },
    {
      "cell_type": "code",
      "source": [
        "# Defining the dictionary\n",
        "my_dict = {'name': 'John', 'age': 25}\n",
        "\n",
        "# Adding a new key-value pair to the dictionary\n",
        "my_dict[\"country\"] = \"USA\"\n",
        "\n",
        "# Printing the updated dictionary\n",
        "print(\"The updated dictionary is:\", my_dict)\n"
      ],
      "metadata": {
        "colab": {
          "base_uri": "https://localhost:8080/"
        },
        "id": "sRfaVvXfKmYD",
        "outputId": "590d9e82-fc40-45c1-fcf4-ebbae0c975f0"
      },
      "execution_count": 76,
      "outputs": [
        {
          "output_type": "stream",
          "name": "stdout",
          "text": [
            "The updated dictionary is: {'name': 'John', 'age': 25, 'country': 'USA'}\n"
          ]
        }
      ]
    },
    {
      "cell_type": "markdown",
      "source": [
        "## **23.Write a code to access the value associated with the key \"name\" in the dictionary {'name': 'Alice', 'age': 30}.**"
      ],
      "metadata": {
        "id": "J-OFY8RSLQ1p"
      }
    },
    {
      "cell_type": "code",
      "source": [
        "# Defining the dictionary\n",
        "my_dict = {'name': 'Alice', 'age': 30}\n",
        "\n",
        "# Accessing the value associated with the key \"name\"\n",
        "name_value = my_dict[\"name\"]\n",
        "\n",
        "# Printing the value\n",
        "print(\"The value associated with the key 'name' is:\", name_value)\n"
      ],
      "metadata": {
        "colab": {
          "base_uri": "https://localhost:8080/"
        },
        "id": "OrnYN7AmK05-",
        "outputId": "aa3528fb-b981-4ea5-c67f-c7f1fee283fe"
      },
      "execution_count": 77,
      "outputs": [
        {
          "output_type": "stream",
          "name": "stdout",
          "text": [
            "The value associated with the key 'name' is: Alice\n"
          ]
        }
      ]
    },
    {
      "cell_type": "markdown",
      "source": [
        "## **24.Write a code to remove the key \"age\" from the dictionary {'name': 'Bob', 'age': 22, 'city': 'New York'}.**"
      ],
      "metadata": {
        "id": "NP652fgbLhJy"
      }
    },
    {
      "cell_type": "code",
      "source": [
        "# Defining the dictionary\n",
        "my_dict = {'name': 'Bob', 'age': 22, 'city': 'New York'}\n",
        "\n",
        "# Removing the key \"age\" from the dictionary\n",
        "my_dict.pop(\"age\")\n",
        "\n",
        "# Printing the updated dictionary\n",
        "print(\"The updated dictionary is:\", my_dict)\n"
      ],
      "metadata": {
        "colab": {
          "base_uri": "https://localhost:8080/"
        },
        "id": "HGnKYEpMLWgw",
        "outputId": "b1c7845b-1ac8-4c41-9c14-8d376fbab240"
      },
      "execution_count": 78,
      "outputs": [
        {
          "output_type": "stream",
          "name": "stdout",
          "text": [
            "The updated dictionary is: {'name': 'Bob', 'city': 'New York'}\n"
          ]
        }
      ]
    },
    {
      "cell_type": "markdown",
      "source": [
        "## **25.Write a code to check if the key \"city\" exists in the dictionary {'name': 'Alice', 'city': 'Paris'}.**"
      ],
      "metadata": {
        "id": "RWfhF8ATLwW9"
      }
    },
    {
      "cell_type": "code",
      "source": [
        "# Defining the dictionary\n",
        "my_dict = {'name': 'Alice', 'city': 'Paris'}\n",
        "\n",
        "# Checking if the key \"city\" exists in the dictionary\n",
        "key_exists = \"city\" in my_dict\n",
        "\n",
        "# Printing the result\n",
        "print(\"Does the key 'city' exist in the dictionary?\", key_exists)\n"
      ],
      "metadata": {
        "colab": {
          "base_uri": "https://localhost:8080/"
        },
        "id": "Z-bQUb4KLmVS",
        "outputId": "0df51e1a-2e03-4521-c082-68c2aa458a48"
      },
      "execution_count": 79,
      "outputs": [
        {
          "output_type": "stream",
          "name": "stdout",
          "text": [
            "Does the key 'city' exist in the dictionary? True\n"
          ]
        }
      ]
    },
    {
      "cell_type": "markdown",
      "source": [
        "##**26. Write a code to create a list, a tuple, and a dictionary, and print them all.**"
      ],
      "metadata": {
        "id": "L9dR_VKgMEMM"
      }
    },
    {
      "cell_type": "code",
      "source": [
        "# Creating a list\n",
        "my_list = [1, 2, 3, 4, 5]\n",
        "\n",
        "# Creating a tuple\n",
        "my_tuple = ('apple', 'banana', 'cherry')\n",
        "\n",
        "# Creating a dictionary\n",
        "my_dict = {'name': 'John', 'age': 25, 'city': 'New York'}\n",
        "\n",
        "# Printing the list, tuple, and dictionary\n",
        "print(\"The list is:\", my_list)\n",
        "print(\"The tuple is:\", my_tuple)\n",
        "print(\"The dictionary is:\", my_dict)\n"
      ],
      "metadata": {
        "colab": {
          "base_uri": "https://localhost:8080/"
        },
        "id": "y6oaKF0lL-9w",
        "outputId": "b72f2b9e-741b-4739-c2e8-5ade658f7aa1"
      },
      "execution_count": 80,
      "outputs": [
        {
          "output_type": "stream",
          "name": "stdout",
          "text": [
            "The list is: [1, 2, 3, 4, 5]\n",
            "The tuple is: ('apple', 'banana', 'cherry')\n",
            "The dictionary is: {'name': 'John', 'age': 25, 'city': 'New York'}\n"
          ]
        }
      ]
    },
    {
      "cell_type": "markdown",
      "source": [
        "## **27.Write a code to create a list of 5 random numbers between 1 and 100, sort it in ascending order, and print the result.(replaced)**"
      ],
      "metadata": {
        "id": "XgZkPApEMb3p"
      }
    },
    {
      "cell_type": "code",
      "source": [
        "import random\n",
        "\n",
        "# Creating a list of 5 random numbers between 1 and 100\n",
        "random_numbers = random.sample(range(1, 101), 5)\n",
        "\n",
        "# Sorting the list in ascending order\n",
        "random_numbers.sort()\n",
        "\n",
        "# Printing the sorted list\n",
        "print(\"Sorted list of random numbers:\", random_numbers)\n"
      ],
      "metadata": {
        "colab": {
          "base_uri": "https://localhost:8080/"
        },
        "id": "iL-LJ2NjMLDJ",
        "outputId": "e41e441a-e5f1-42d3-cd74-3151a6e59579"
      },
      "execution_count": 81,
      "outputs": [
        {
          "output_type": "stream",
          "name": "stdout",
          "text": [
            "Sorted list of random numbers: [50, 61, 65, 69, 74]\n"
          ]
        }
      ]
    },
    {
      "cell_type": "markdown",
      "source": [
        "## **28.Write a code to create a list with strings and print the element at the third index.**"
      ],
      "metadata": {
        "id": "20_RPB5jM0f3"
      }
    },
    {
      "cell_type": "code",
      "source": [
        "# Creating a list with string elements\n",
        "string_list = [\"apple\", \"banana\", \"cherry\", \"date\", \"elderberry\"]\n",
        "\n",
        "# Printing the element at the third index (index starts from 0)\n",
        "print(\"Element at the third index is:\", string_list[3])\n"
      ],
      "metadata": {
        "colab": {
          "base_uri": "https://localhost:8080/"
        },
        "id": "BVtf0pDvMsNE",
        "outputId": "55cb3500-a440-48e1-c913-81750b9ad0b8"
      },
      "execution_count": 82,
      "outputs": [
        {
          "output_type": "stream",
          "name": "stdout",
          "text": [
            "Element at the third index is: date\n"
          ]
        }
      ]
    },
    {
      "cell_type": "markdown",
      "source": [
        "## **29.Write a code to combine two dictionaries into one and print the result.**"
      ],
      "metadata": {
        "id": "DdPlUbxoM-HG"
      }
    },
    {
      "cell_type": "code",
      "source": [
        "# Creating two dictionaries\n",
        "dict1 = {'a': 1, 'b': 2}\n",
        "dict2 = {'c': 3, 'd': 4}\n",
        "\n",
        "# Combining the dictionaries\n",
        "combined_dict = {**dict1, **dict2}\n",
        "\n",
        "# Printing the combined dictionary\n",
        "print(\"Combined dictionary:\", combined_dict)\n"
      ],
      "metadata": {
        "colab": {
          "base_uri": "https://localhost:8080/"
        },
        "id": "9gRwvFLOM43E",
        "outputId": "552f46c0-e1b2-42ca-e845-79b4c70e39df"
      },
      "execution_count": 83,
      "outputs": [
        {
          "output_type": "stream",
          "name": "stdout",
          "text": [
            "Combined dictionary: {'a': 1, 'b': 2, 'c': 3, 'd': 4}\n"
          ]
        }
      ]
    },
    {
      "cell_type": "markdown",
      "source": [
        "## **30.Write a code to convert a list of strings into a set.**"
      ],
      "metadata": {
        "id": "nZSyG9BENM-4"
      }
    },
    {
      "cell_type": "code",
      "source": [
        "# Creating a list of strings\n",
        "string_list = [\"apple\", \"banana\", \"cherry\", \"apple\", \"banana\"]\n",
        "\n",
        "# Converting the list into a set\n",
        "string_set = set(string_list)\n",
        "\n",
        "# Printing the set\n",
        "print(\"Set of strings:\", string_set)\n"
      ],
      "metadata": {
        "colab": {
          "base_uri": "https://localhost:8080/"
        },
        "id": "8padrQxWNDoH",
        "outputId": "f261fe61-7e51-47e6-8b2e-52238ac4251b"
      },
      "execution_count": 84,
      "outputs": [
        {
          "output_type": "stream",
          "name": "stdout",
          "text": [
            "Set of strings: {'cherry', 'apple', 'banana'}\n"
          ]
        }
      ]
    },
    {
      "cell_type": "code",
      "source": [],
      "metadata": {
        "id": "WdmR5C9MNVA0"
      },
      "execution_count": null,
      "outputs": []
    }
  ]
}