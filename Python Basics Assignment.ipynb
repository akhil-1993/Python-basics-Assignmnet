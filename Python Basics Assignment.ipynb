{
  "nbformat": 4,
  "nbformat_minor": 0,
  "metadata": {
    "colab": {
      "provenance": []
    },
    "kernelspec": {
      "name": "python3",
      "display_name": "Python 3"
    },
    "language_info": {
      "name": "python"
    }
  },
  "cells": [
    {
      "cell_type": "markdown",
      "source": [
        "# 1.Explain the key features of Python that make it a popular choice for programming?"
      ],
      "metadata": {
        "id": "Xe3vSXvNbf_P"
      }
    },
    {
      "cell_type": "code",
      "source": [],
      "metadata": {
        "id": "Ax6v41CzeaLf"
      },
      "execution_count": null,
      "outputs": []
    },
    {
      "cell_type": "markdown",
      "source": [
        "=> Python is one of the most widely used programming languages in data\n",
        "   analytics, and honestly, it's not hard to see why. I’m currently learning it as part of my data analytics course, and what really stands out is how beginner-friendly it is.\n",
        "\n",
        "  One of the biggest reasons people love Python is its simple and readable syntax. It doesn’t feel overwhelming, especially for someone like me who didn’t come from a hardcore programming background. You can write code that looks almost like plain English, which makes it easier to understand what’s going on—especially when working with complex data.\n",
        "\n",
        "  Another huge advantage is Python’s amazing collection of libraries made specifically for data-related work. Libraries like pandas help in organizing and analyzing data, numpy makes numerical computations faster, and tools like matplotlib and seaborn are great for creating graphs and visualizations. These libraries save a lot of time because they already have so many built-in functions—you don’t have to build everything from scratch.\n",
        "\n",
        "  Python is also great when it comes to automating repetitive tasks. For example, if I have to clean a dataset or calculate some statistics over and over, I can just write a simple script once and reuse it whenever I need. This kind of automation is super helpful in data projects.\n",
        "\n",
        "  Something else I found useful is that Python is dynamically typed and interpreted, which means you don’t have to worry about declaring variable types or compiling the code every time you run it. You can just write a bit of code and immediately see how it works, which really helps when you’re experimenting or learning.\n",
        "\n",
        "  It also works on different operating systems, so whether you’re using Windows, macOS, or Linux, your Python code runs just fine. And because it’s used worldwide, there’s a huge community of Python users. If I get stuck, I can usually find answers or examples online pretty quickly.\n",
        "\n",
        "  All in all, Python has everything a data analyst needs—simplicity, powerful tools, and flexibility. It’s like a one-stop solution for handling, analyzing, and visualizing data, which is why I think it’s such a popular choice in the data analytics world."
      ],
      "metadata": {
        "id": "IYh_QEFDc8gO"
      }
    },
    {
      "cell_type": "markdown",
      "source": [
        "# 2.Describe the role of predefined keywords in Python and provide examples of how they are used in a program"
      ],
      "metadata": {
        "id": "NQtOPM2ddOoW"
      }
    },
    {
      "cell_type": "markdown",
      "source": [
        "=>  In Python, keywords are reserved words that have special meanings. You\n",
        "  cannot use these words as variable names or function names because they are part of Python’s syntax and are used to define specific operations or structures in the code.These keywords help Python understand what you want to do in your program, like making decisions, repeating actions, or defining functions."
      ],
      "metadata": {
        "id": "fsNvqFM5c4Bc"
      }
    },
    {
      "cell_type": "markdown",
      "source": [
        "## Common Python Keywords with Examples"
      ],
      "metadata": {
        "id": "pTJOdL9Ac2dH"
      }
    },
    {
      "cell_type": "markdown",
      "source": [
        "1. if, elif, else – Used for Conditional Statements (Making decisions)\n",
        "What they do:\n",
        "The if keyword checks if a condition is True. If it is, it runs the code inside the block. The elif (else if) checks another condition if the first one is False, and the else is used when all conditions are False."
      ],
      "metadata": {
        "id": "YZ9PvDfZfQrA"
      }
    },
    {
      "cell_type": "code",
      "source": [
        "# program to check if a number is positive, negative, or zero\n",
        "\n",
        "number = 5  # You can change this number to test different cases\n",
        "\n",
        "if number > 0:\n",
        "    print(\"The number is positive.\")\n",
        "elif number < 0:\n",
        "    print(\"The number is negative.\")\n",
        "else:\n",
        "    print(\"The number is zero.\")"
      ],
      "metadata": {
        "colab": {
          "base_uri": "https://localhost:8080/"
        },
        "id": "ZUIQ56ZdfIu0",
        "outputId": "39dbb47a-3e63-4a35-dfd3-eb27f1f9f0ee"
      },
      "execution_count": 4,
      "outputs": [
        {
          "output_type": "stream",
          "name": "stdout",
          "text": [
            "The number is positive.\n"
          ]
        }
      ]
    },
    {
      "cell_type": "markdown",
      "source": [
        "Explanation:\n",
        "\n",
        "If number is greater than 0, it prints \"The number is positive.\"\n",
        "\n",
        "If number is less than 0, it prints \"The number is negative.\"\n",
        "\n",
        "If neither of the above is true (meaning the number is 0), it prints \"The number is zero.\""
      ],
      "metadata": {
        "id": "P7n60M6tf3Wb"
      }
    },
    {
      "cell_type": "markdown",
      "source": [
        "2. for – Used for Loops (Repeating actions)\n",
        "What it does:\n",
        "The for loop is used to repeat a block of code a specific number of times or iterate over a sequence (like a list)."
      ],
      "metadata": {
        "id": "xEn0jxLRfPur"
      }
    },
    {
      "cell_type": "code",
      "source": [
        "# Simple program to print numbers from 1 to 5\n",
        "\n",
        "for i in range(1, 6):  # range(1, 6) creates numbers from 1 to 5\n",
        "    print(i)\n"
      ],
      "metadata": {
        "colab": {
          "base_uri": "https://localhost:8080/"
        },
        "id": "gI2ehHPUgYZk",
        "outputId": "92319569-b4e4-4875-aa48-a7520ceb9443"
      },
      "execution_count": 5,
      "outputs": [
        {
          "output_type": "stream",
          "name": "stdout",
          "text": [
            "1\n",
            "2\n",
            "3\n",
            "4\n",
            "5\n"
          ]
        }
      ]
    },
    {
      "cell_type": "markdown",
      "source": [
        "Explanation:\n",
        "\n",
        "range(1, 6) generates a sequence of numbers from 1 to 5.\n",
        "\n",
        "The for loop runs through each number and prints it.\n",
        "\n",
        "The loop will repeat the action until it has printed all numbers in the range."
      ],
      "metadata": {
        "id": "InYvEEsTg_w-"
      }
    },
    {
      "cell_type": "markdown",
      "source": [
        "# 3. Compare and contrast mutable and immutable objects in Python with examples?"
      ],
      "metadata": {
        "id": "bKSK0UVch-Kn"
      }
    },
    {
      "cell_type": "markdown",
      "source": [
        "=>  1. Mutable Objects\n",
        "These are objects whose values can be changed after they are created.\n",
        "When you change something inside a mutable object, Python does not create a new object—it simply updates the original one.\n",
        "\n",
        "Examples of Mutable Objects:\n",
        "list\n",
        "\n",
        "dict\n",
        "\n",
        "set\n",
        "\n",
        "Example: List (Mutable)"
      ],
      "metadata": {
        "id": "JIGqFvqziNUn"
      }
    },
    {
      "cell_type": "code",
      "source": [
        "numbers = [1, 2, 3]\n",
        "print(\"Before:\", numbers)\n",
        "\n",
        "numbers.append(4)  # Modifying the list\n",
        "print(\"After:\", numbers)"
      ],
      "metadata": {
        "colab": {
          "base_uri": "https://localhost:8080/"
        },
        "id": "GqQbwBJPiCdO",
        "outputId": "afbe313e-5b71-4672-80a7-1f5692425747"
      },
      "execution_count": 7,
      "outputs": [
        {
          "output_type": "stream",
          "name": "stdout",
          "text": [
            "Before: [1, 2, 3]\n",
            "After: [1, 2, 3, 4]\n"
          ]
        }
      ]
    },
    {
      "cell_type": "markdown",
      "source": [
        "Explanation:\n",
        "\n",
        "We added a new number to the list using .append().\n",
        "\n",
        "The list was changed without creating a new one—this is what makes it mutable."
      ],
      "metadata": {
        "id": "7hJGU6zxiosh"
      }
    },
    {
      "cell_type": "markdown",
      "source": [
        "2. Immutable Objects\n",
        "These are objects whose values cannot be changed after they are created.\n",
        "If you try to modify them, Python creates a new object instead of changing the existing one.\n",
        "\n",
        " Examples of Immutable Objects:\n",
        "int\n",
        "\n",
        "float\n",
        "\n",
        "str\n",
        "\n",
        "tuple\n",
        "\n",
        "bool\n",
        "\n",
        " Example: String (Immutable)"
      ],
      "metadata": {
        "id": "YuzdQLPsi694"
      }
    },
    {
      "cell_type": "code",
      "source": [
        "name = \"Akhil\"\n",
        "print(\"Before:\", name)\n",
        "\n",
        "name = name + \" Nair\"  # Looks like modification, but it's creating a new string\n",
        "print(\"After:\", name)"
      ],
      "metadata": {
        "colab": {
          "base_uri": "https://localhost:8080/"
        },
        "id": "UX8uIZm-iidi",
        "outputId": "c0aaab31-dc92-42d6-b771-9a1d8e2f68f6"
      },
      "execution_count": 8,
      "outputs": [
        {
          "output_type": "stream",
          "name": "stdout",
          "text": [
            "Before: Akhil\n",
            "After: Akhil Nair\n"
          ]
        }
      ]
    },
    {
      "cell_type": "markdown",
      "source": [
        "Explanation:\n",
        "\n",
        "It may seem like we changed the original string, but in reality, Python created a new string and assigned it to the same variable.\n",
        "\n",
        "The original \"Akhil\" remains unchanged internally. This makes strings immutable."
      ],
      "metadata": {
        "id": "-UJuFkwcjTQs"
      }
    },
    {
      "cell_type": "markdown",
      "source": [
        "# 4.Discuss the different types of operators in Python and provide examples of how they are used?"
      ],
      "metadata": {
        "id": "PiZ0tIbSkS86"
      }
    },
    {
      "cell_type": "markdown",
      "source": [
        "# => Python Operators: Types & Examples\n",
        "we’ll explore different types of operators in Python."
      ],
      "metadata": {
        "id": "m24FjkGdkXWy"
      }
    },
    {
      "cell_type": "markdown",
      "source": [
        "##  1. Arithmetic Operators\n",
        "\n",
        "These are used to perform basic math operations."
      ],
      "metadata": {
        "id": "1-vMgJDakw4i"
      }
    },
    {
      "cell_type": "code",
      "source": [
        "a = 10\n",
        "b = 3\n",
        "\n",
        "print(\"Addition:\", a + b)\n",
        "print(\"Subtraction:\", a - b)\n",
        "print(\"Multiplication:\", a * b)\n",
        "print(\"Division:\", a / b)\n",
        "print(\"Modulus:\", a % b)\n",
        "print(\"Exponent:\", a ** b)\n",
        "print(\"Floor Division:\", a // b)"
      ],
      "metadata": {
        "colab": {
          "base_uri": "https://localhost:8080/"
        },
        "id": "gm2T7So0kvec",
        "outputId": "4b375fe7-3d02-4b31-dc12-cb087b8ffafd"
      },
      "execution_count": 10,
      "outputs": [
        {
          "output_type": "stream",
          "name": "stdout",
          "text": [
            "Addition: 13\n",
            "Subtraction: 7\n",
            "Multiplication: 30\n",
            "Division: 3.3333333333333335\n",
            "Modulus: 1\n",
            "Exponent: 1000\n",
            "Floor Division: 3\n"
          ]
        }
      ]
    },
    {
      "cell_type": "markdown",
      "source": [
        "#  2. Assignment Operators\n",
        "\n",
        "These are used to assign and update values in variables."
      ],
      "metadata": {
        "id": "4S_6uaY6lTtU"
      }
    },
    {
      "cell_type": "code",
      "source": [
        "x = 5\n",
        "x += 3  # x = x + 3\n",
        "print(\"x after += 3:\", x)\n",
        "\n",
        "x *= 2  # x = x * 2\n",
        "print(\"x after *= 2:\", x)"
      ],
      "metadata": {
        "colab": {
          "base_uri": "https://localhost:8080/"
        },
        "id": "tEZK0vbLlDe0",
        "outputId": "59fed241-7dfe-4200-b6db-acd3d78a7a88"
      },
      "execution_count": 11,
      "outputs": [
        {
          "output_type": "stream",
          "name": "stdout",
          "text": [
            "x after += 3: 8\n",
            "x after *= 2: 16\n"
          ]
        }
      ]
    },
    {
      "cell_type": "markdown",
      "source": [
        "##  3. Comparison Operators\n",
        "\n",
        "Used to compare two values. Returns `True` or `False`."
      ],
      "metadata": {
        "id": "V1S-r8A4llgj"
      }
    },
    {
      "cell_type": "code",
      "source": [
        "a = 10\n",
        "b = 5\n",
        "\n",
        "print(\"Is a equal to b?\", a == b)\n",
        "print(\"Is a not equal to b?\", a != b)\n",
        "print(\"Is a greater than b?\", a > b)\n",
        "print(\"Is a less than or equal to b?\", a <= b)"
      ],
      "metadata": {
        "colab": {
          "base_uri": "https://localhost:8080/"
        },
        "id": "LeRmHlppla5C",
        "outputId": "4adb9141-ccf0-4bd3-b637-38a9231cc9e9"
      },
      "execution_count": 12,
      "outputs": [
        {
          "output_type": "stream",
          "name": "stdout",
          "text": [
            "Is a equal to b? False\n",
            "Is a not equal to b? True\n",
            "Is a greater than b? True\n",
            "Is a less than or equal to b? False\n"
          ]
        }
      ]
    },
    {
      "cell_type": "markdown",
      "source": [
        "##  4. Logical Operators"
      ],
      "metadata": {
        "id": "lljNGXV0l_FL"
      }
    },
    {
      "cell_type": "markdown",
      "source": [
        "##  4. Logical Operators\n",
        "\n",
        "Used to combine multiple conditions."
      ],
      "metadata": {
        "id": "YqZ97qUOmoVm"
      }
    },
    {
      "cell_type": "code",
      "source": [
        "x = 7\n",
        "\n",
        "print(\"Is x between 5 and 10?\", x > 5 and x < 10)\n",
        "print(\"Is x less than 5 or greater than 10?\", x < 5 or x > 10)\n",
        "print(\"Is it NOT true that x > 5 and x < 10?\", not(x > 5 and x < 10))"
      ],
      "metadata": {
        "colab": {
          "base_uri": "https://localhost:8080/"
        },
        "id": "j1wKksYFl0wq",
        "outputId": "c043ac45-0f86-4f95-8b25-1d7af63ed187"
      },
      "execution_count": 13,
      "outputs": [
        {
          "output_type": "stream",
          "name": "stdout",
          "text": [
            "Is x between 5 and 10? True\n",
            "Is x less than 5 or greater than 10? False\n",
            "Is it NOT true that x > 5 and x < 10? False\n"
          ]
        }
      ]
    },
    {
      "cell_type": "markdown",
      "source": [
        "##  5. Identity Operators\n",
        "\n",
        "Used to check whether two variables refer to the **same object**.\n"
      ],
      "metadata": {
        "id": "zCUtxg21nGfl"
      }
    },
    {
      "cell_type": "code",
      "source": [
        "a = [1, 2, 3]\n",
        "b = a\n",
        "c = [1, 2, 3]\n",
        "\n",
        "print(\"a is b:\", a is b)       # True\n",
        "print(\"a is c:\", a is c)       # False\n",
        "print(\"a is not c:\", a is not c)  # True"
      ],
      "metadata": {
        "colab": {
          "base_uri": "https://localhost:8080/"
        },
        "id": "EYF90oGVnIST",
        "outputId": "79f04cc2-5f57-41d5-dedb-8cdc59262b27"
      },
      "execution_count": 15,
      "outputs": [
        {
          "output_type": "stream",
          "name": "stdout",
          "text": [
            "a is b: True\n",
            "a is c: False\n",
            "a is not c: True\n"
          ]
        }
      ]
    },
    {
      "cell_type": "markdown",
      "source": [],
      "metadata": {
        "id": "RAQjJhSdoTzK"
      }
    },
    {
      "cell_type": "markdown",
      "source": [
        "# 5.Explain the concept of type casting in Python with examples"
      ],
      "metadata": {
        "id": "l8Zxg67loTmn"
      }
    },
    {
      "cell_type": "markdown",
      "source": [
        "#  Type Casting in Python\n",
        "\n",
        "In Python, **type casting** means converting one data type into another. This is useful when you want to perform operations that require values to be in a specific format (like converting a string to an integer for math).\n",
        "\n",
        "###  There are two types of type casting:\n",
        "1. **Implicit Type Casting**\n",
        "2. **Explicit Type Casting**\n"
      ],
      "metadata": {
        "id": "2sbypRThojHn"
      }
    },
    {
      "cell_type": "markdown",
      "source": [
        "### 1. Implicit Type Casting\n"
      ],
      "metadata": {
        "id": "5V9rR9Yfow7Y"
      }
    },
    {
      "cell_type": "code",
      "source": [
        "# Implicit type casting\n",
        "a = 5        # integer\n",
        "b = 2.0      # float\n",
        "\n",
        "result = a + b  # Python automatically converts 'a' to float\n",
        "print(result)   # Output: 7.0\n",
        "print(type(result))  # Output: <class 'float'>\n"
      ],
      "metadata": {
        "colab": {
          "base_uri": "https://localhost:8080/"
        },
        "id": "EqaSMSm-o2R6",
        "outputId": "6c33807a-e848-44db-9ecc-c5807087a45c"
      },
      "execution_count": 16,
      "outputs": [
        {
          "output_type": "stream",
          "name": "stdout",
          "text": [
            "7.0\n",
            "<class 'float'>\n"
          ]
        }
      ]
    },
    {
      "cell_type": "markdown",
      "source": [
        "###  2. Explicit Type Casting"
      ],
      "metadata": {
        "id": "A01JdMtIpIXD"
      }
    },
    {
      "cell_type": "markdown",
      "source": [
        "You manually convert one data type into another using built-in functions like:\n",
        "\n",
        "- `int()` → converts to integer\n",
        "- `float()` → converts to float\n",
        "- `str()` → converts to string\n",
        "- `bool()` → converts to Boolean\n",
        "- `list()`, `tuple()`, `set()` → for data collections\n",
        "\n",
        "###  Examples:\n"
      ],
      "metadata": {
        "id": "BUQqVDTMpytg"
      }
    },
    {
      "cell_type": "code",
      "source": [
        "# Converting float to int\n",
        "x = 10.75\n",
        "x_int = int(x)\n",
        "print(x_int)  # Output: 10 (decimal part is removed)\n",
        "\n",
        "# Converting string to int\n",
        "num_str = \"100\"\n",
        "num_int = int(num_str)\n",
        "print(num_int + 50)  # Output: 150\n",
        "\n",
        "# Converting int to string\n",
        "age = 25\n",
        "print(\"I am \" + str(age) + \" years old.\")  # Output: I am 25 years old.\n",
        "\n",
        "# Converting list to set\n",
        "my_list = [1, 2, 2, 3]\n",
        "my_set = set(my_list)\n",
        "print(my_set)  # Output: {1, 2, 3}"
      ],
      "metadata": {
        "colab": {
          "base_uri": "https://localhost:8080/"
        },
        "id": "QC6h5orbpzaC",
        "outputId": "68d926ca-0f21-450f-b4df-d7ef53f489bc"
      },
      "execution_count": 19,
      "outputs": [
        {
          "output_type": "stream",
          "name": "stdout",
          "text": [
            "10\n",
            "150\n",
            "I am 25 years old.\n",
            "{1, 2, 3}\n"
          ]
        }
      ]
    },
    {
      "cell_type": "markdown",
      "source": [
        "# 6.How do conditional statements work in Python? Illustrate with examples"
      ],
      "metadata": {
        "id": "cs00ETedqm_s"
      }
    },
    {
      "cell_type": "markdown",
      "source": [
        "#  Conditional Statements in Python\n",
        "\n",
        "Conditional statements help you make decisions in your code based on **certain conditions**.\n",
        "\n",
        "They work like:\n",
        "> \"If this is true, then do this… Otherwise, do something else.\"\n",
        "\n",
        "In data analytics, we use them for tasks like filtering data, cleaning it, or making decisions based on values.\n",
        "\n",
        "##  Types of Conditional Statements:\n",
        "1. `if`\n",
        "2. `if-else`\n",
        "3. `if-elif-else`\n",
        "4. Nested `if`\n",
        "\n",
        "Let’s go through them one by one with examples.\n"
      ],
      "metadata": {
        "id": "OzAkKy77q64N"
      }
    },
    {
      "cell_type": "markdown",
      "source": [
        "1. if Statement"
      ],
      "metadata": {
        "id": "yU9N4LeTrKxw"
      }
    },
    {
      "cell_type": "code",
      "source": [
        "age = 20\n",
        "\n",
        "if age > 18:\n",
        "    print(\"You are an adult.\")"
      ],
      "metadata": {
        "colab": {
          "base_uri": "https://localhost:8080/"
        },
        "id": "oK7HmmTOqqzH",
        "outputId": "1da197b2-6b25-4a43-b9f5-7310878966fb"
      },
      "execution_count": 23,
      "outputs": [
        {
          "output_type": "stream",
          "name": "stdout",
          "text": [
            "You are an adult.\n"
          ]
        }
      ]
    },
    {
      "cell_type": "markdown",
      "source": [
        "2. if-else Statement"
      ],
      "metadata": {
        "id": "DZhR91iKrb-G"
      }
    },
    {
      "cell_type": "code",
      "source": [
        "marks = 45\n",
        "\n",
        "if marks >= 50:\n",
        "    print(\"You passed!\")\n",
        "else:\n",
        "    print(\"You Failed!\")\n"
      ],
      "metadata": {
        "colab": {
          "base_uri": "https://localhost:8080/"
        },
        "id": "8QVKSZa4rPbs",
        "outputId": "209d2c98-142f-44fe-8be9-72567c06d717"
      },
      "execution_count": 25,
      "outputs": [
        {
          "output_type": "stream",
          "name": "stdout",
          "text": [
            "You Failed!\n"
          ]
        }
      ]
    },
    {
      "cell_type": "markdown",
      "source": [
        "3. if-elif-else Statement"
      ],
      "metadata": {
        "id": "k8z-5OeLsX_4"
      }
    },
    {
      "cell_type": "code",
      "source": [
        "temp = 30\n",
        "\n",
        "if temp < 20:\n",
        "    print(\"It's cold.\")\n",
        "elif temp < 35:\n",
        "    print(\"It's warm.\")\n",
        "else:\n",
        "    print(\"It's hot.\")\n"
      ],
      "metadata": {
        "colab": {
          "base_uri": "https://localhost:8080/"
        },
        "id": "yciIQHHWr9L1",
        "outputId": "faca4880-1e6e-4bc5-92bf-cfa2ca6d94b3"
      },
      "execution_count": 28,
      "outputs": [
        {
          "output_type": "stream",
          "name": "stdout",
          "text": [
            "It's warm.\n"
          ]
        }
      ]
    },
    {
      "cell_type": "markdown",
      "source": [
        "4. Nested if Statement"
      ],
      "metadata": {
        "id": "IsQ3dYfnssde"
      }
    },
    {
      "cell_type": "code",
      "source": [
        "score = 80\n",
        "\n",
        "if score >= 50:\n",
        "    if score >= 80:\n",
        "        print(\"Excellent!\")\n",
        "    else:\n",
        "        print(\"Good job!\")\n",
        "else:\n",
        "    print(\"Try again!\")\n"
      ],
      "metadata": {
        "colab": {
          "base_uri": "https://localhost:8080/"
        },
        "id": "mlB0aLt8sosc",
        "outputId": "9ef485fb-8d27-4669-d722-ada44929a61c"
      },
      "execution_count": 35,
      "outputs": [
        {
          "output_type": "stream",
          "name": "stdout",
          "text": [
            "Excellent!\n"
          ]
        }
      ]
    },
    {
      "cell_type": "markdown",
      "source": [
        "# 7.Describe the different types of loops in Python and their use cases with examples."
      ],
      "metadata": {
        "id": "cJEP2pYutO6w"
      }
    },
    {
      "cell_type": "markdown",
      "source": [
        "#  Loops in Python\n",
        "\n",
        "Loops are used when we want to **repeat a block of code multiple times**. This is super helpful in data analytics when you're going through rows of data, applying conditions, or performing repetitive tasks.\n",
        "\n",
        "##  Types of Loops in Python:\n",
        "\n",
        "1. `for` loop\n",
        "2. `while` loop\n",
        "3. `nested` loops\n"
      ],
      "metadata": {
        "id": "ZaskCZXwtcFl"
      }
    },
    {
      "cell_type": "markdown",
      "source": [
        "1. for Loop\n"
      ],
      "metadata": {
        "id": "8Y4epNvTtsMT"
      }
    },
    {
      "cell_type": "markdown",
      "source": [
        "Used when you want to iterate over a sequence (like a list, tuple, string, or range of numbers)."
      ],
      "metadata": {
        "id": "q8R83LHnuEoC"
      }
    },
    {
      "cell_type": "code",
      "source": [
        "fruits = [\"apple\", \"banana\", \"cherry\"]\n",
        "\n",
        "for fruit in fruits:\n",
        "    print(\"I like\", fruit)"
      ],
      "metadata": {
        "colab": {
          "base_uri": "https://localhost:8080/"
        },
        "id": "vE_CCrZSuFLY",
        "outputId": "505706a6-f506-4044-db2e-241d5618784d"
      },
      "execution_count": 36,
      "outputs": [
        {
          "output_type": "stream",
          "name": "stdout",
          "text": [
            "I like apple\n",
            "I like banana\n",
            "I like cherry\n"
          ]
        }
      ]
    },
    {
      "cell_type": "markdown",
      "source": [
        "2. while Loop"
      ],
      "metadata": {
        "id": "TDwiIUU8ufGA"
      }
    },
    {
      "cell_type": "markdown",
      "source": [
        "Used when you want to repeat something until a condition becomes false."
      ],
      "metadata": {
        "id": "0TUyklxxurDq"
      }
    },
    {
      "cell_type": "code",
      "source": [
        "count = 1\n",
        "\n",
        "while count <= 5:\n",
        "    print(\"Counting:\", count)\n",
        "    count += 1"
      ],
      "metadata": {
        "colab": {
          "base_uri": "https://localhost:8080/"
        },
        "id": "8FROdZEeu2Ez",
        "outputId": "177a46d4-9c47-4f5d-dfef-21acf641ea16"
      },
      "execution_count": 40,
      "outputs": [
        {
          "output_type": "stream",
          "name": "stdout",
          "text": [
            "Counting: 1\n",
            "Counting: 2\n",
            "Counting: 3\n",
            "Counting: 4\n",
            "Counting: 5\n"
          ]
        }
      ]
    },
    {
      "cell_type": "markdown",
      "source": [
        "3. Nested Loops"
      ],
      "metadata": {
        "id": "Nr8EHKymvNWF"
      }
    },
    {
      "cell_type": "markdown",
      "source": [
        "A loop inside another loop."
      ],
      "metadata": {
        "id": "rDZBRfeVvW-R"
      }
    },
    {
      "cell_type": "code",
      "source": [
        "# Print a pattern using nested loops\n",
        "for i in range(1, 5):\n",
        "    for j in range(1, 5):\n",
        "        print(f\"({i}, {j})\", end=' ')\n",
        "    print()"
      ],
      "metadata": {
        "colab": {
          "base_uri": "https://localhost:8080/"
        },
        "id": "gRHq9mccvN97",
        "outputId": "f5dce450-cc66-46fb-9cca-f1e36316daf1"
      },
      "execution_count": 42,
      "outputs": [
        {
          "output_type": "stream",
          "name": "stdout",
          "text": [
            "(1, 1) (1, 2) (1, 3) (1, 4) \n",
            "(2, 1) (2, 2) (2, 3) (2, 4) \n",
            "(3, 1) (3, 2) (3, 3) (3, 4) \n",
            "(4, 1) (4, 2) (4, 3) (4, 4) \n"
          ]
        }
      ]
    },
    {
      "cell_type": "code",
      "source": [],
      "metadata": {
        "id": "AGepH9zTvgVD"
      },
      "execution_count": null,
      "outputs": []
    }
  ]
}